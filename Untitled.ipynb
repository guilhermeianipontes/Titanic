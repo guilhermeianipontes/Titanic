{
 "cells": [
  {
   "cell_type": "code",
   "execution_count": 14,
   "id": "8737fa56",
   "metadata": {},
   "outputs": [],
   "source": [
    "import pandas as pd\n",
    "import matplotlib.pyplot as plt\n",
    "import numpy as np"
   ]
  },
  {
   "cell_type": "code",
   "execution_count": 15,
   "id": "3a15cebb",
   "metadata": {},
   "outputs": [],
   "source": [
    "data_resultados_teste = pd.read_csv('titanic_data\\gender_submission.csv')"
   ]
  },
  {
   "cell_type": "code",
   "execution_count": 25,
   "id": "e69ed66d",
   "metadata": {},
   "outputs": [],
   "source": [
    "data_treino = pd.read_csv(r\"C:\\Users\\guilh\\OneDrive\\Documentos\\GitHub\\Titanic\\titanic_data\\train.csv\")"
   ]
  },
  {
   "cell_type": "code",
   "execution_count": 19,
   "id": "79e25f3c",
   "metadata": {},
   "outputs": [],
   "source": [
    "data_teste = pd.read_csv(r\"C:\\Users\\guilh\\OneDrive\\Documentos\\GitHub\\Titanic\\titanic_data\\test.csv\")"
   ]
  },
  {
   "cell_type": "code",
   "execution_count": null,
   "id": "618a1466",
   "metadata": {},
   "outputs": [],
   "source": []
  }
 ],
 "metadata": {
  "kernelspec": {
   "display_name": "Python 3 (ipykernel)",
   "language": "python",
   "name": "python3"
  },
  "language_info": {
   "codemirror_mode": {
    "name": "ipython",
    "version": 3
   },
   "file_extension": ".py",
   "mimetype": "text/x-python",
   "name": "python",
   "nbconvert_exporter": "python",
   "pygments_lexer": "ipython3",
   "version": "3.10.8"
  }
 },
 "nbformat": 4,
 "nbformat_minor": 5
}
