{
 "cells": [
  {
   "cell_type": "markdown",
   "id": "9c011229",
   "metadata": {},
   "source": [
    "# Classificação - Titanic Dataset"
   ]
  },
  {
   "cell_type": "markdown",
   "id": "9e266142",
   "metadata": {},
   "source": [
    "## Importando bibliotecas"
   ]
  },
  {
   "cell_type": "code",
   "execution_count": 1,
   "id": "56d47e1d",
   "metadata": {},
   "outputs": [],
   "source": [
    "import numpy as np\n",
    "import pandas as pd \n",
    "import matplotlib.pyplot as plt"
   ]
  },
  {
   "cell_type": "markdown",
   "id": "6895745a",
   "metadata": {},
   "source": [
    "## Importando os dados"
   ]
  },
  {
   "cell_type": "code",
   "execution_count": 2,
   "id": "1eefec6d",
   "metadata": {},
   "outputs": [],
   "source": [
    "data_resultados_teste = pd.read_csv('titanic_data\\gender_submission.csv')"
   ]
  },
  {
   "cell_type": "code",
   "execution_count": 3,
   "id": "a6686d89",
   "metadata": {},
   "outputs": [],
   "source": [
    "data_treino = pd.read_csv(r\"titanic_data/train.csv\")"
   ]
  },
  {
   "cell_type": "code",
   "execution_count": 4,
   "id": "bab105b0",
   "metadata": {},
   "outputs": [],
   "source": [
    "data_teste = pd.read_csv(r\"titanic_data\\test.csv\")"
   ]
  },
  {
   "cell_type": "markdown",
   "id": "57a35817",
   "metadata": {},
   "source": [
    "## Conhecendo os dados"
   ]
  },
  {
   "cell_type": "code",
   "execution_count": 5,
   "id": "b7a493ba",
   "metadata": {},
   "outputs": [
    {
     "data": {
      "text/html": [
       "<div>\n",
       "<style scoped>\n",
       "    .dataframe tbody tr th:only-of-type {\n",
       "        vertical-align: middle;\n",
       "    }\n",
       "\n",
       "    .dataframe tbody tr th {\n",
       "        vertical-align: top;\n",
       "    }\n",
       "\n",
       "    .dataframe thead th {\n",
       "        text-align: right;\n",
       "    }\n",
       "</style>\n",
       "<table border=\"1\" class=\"dataframe\">\n",
       "  <thead>\n",
       "    <tr style=\"text-align: right;\">\n",
       "      <th></th>\n",
       "      <th>PassengerId</th>\n",
       "      <th>Survived</th>\n",
       "      <th>Pclass</th>\n",
       "      <th>Name</th>\n",
       "      <th>Sex</th>\n",
       "      <th>Age</th>\n",
       "      <th>SibSp</th>\n",
       "      <th>Parch</th>\n",
       "      <th>Ticket</th>\n",
       "      <th>Fare</th>\n",
       "      <th>Cabin</th>\n",
       "      <th>Embarked</th>\n",
       "    </tr>\n",
       "  </thead>\n",
       "  <tbody>\n",
       "    <tr>\n",
       "      <th>0</th>\n",
       "      <td>1</td>\n",
       "      <td>0</td>\n",
       "      <td>3</td>\n",
       "      <td>Braund, Mr. Owen Harris</td>\n",
       "      <td>male</td>\n",
       "      <td>22.0</td>\n",
       "      <td>1</td>\n",
       "      <td>0</td>\n",
       "      <td>A/5 21171</td>\n",
       "      <td>7.2500</td>\n",
       "      <td>NaN</td>\n",
       "      <td>S</td>\n",
       "    </tr>\n",
       "    <tr>\n",
       "      <th>1</th>\n",
       "      <td>2</td>\n",
       "      <td>1</td>\n",
       "      <td>1</td>\n",
       "      <td>Cumings, Mrs. John Bradley (Florence Briggs Th...</td>\n",
       "      <td>female</td>\n",
       "      <td>38.0</td>\n",
       "      <td>1</td>\n",
       "      <td>0</td>\n",
       "      <td>PC 17599</td>\n",
       "      <td>71.2833</td>\n",
       "      <td>C85</td>\n",
       "      <td>C</td>\n",
       "    </tr>\n",
       "    <tr>\n",
       "      <th>2</th>\n",
       "      <td>3</td>\n",
       "      <td>1</td>\n",
       "      <td>3</td>\n",
       "      <td>Heikkinen, Miss. Laina</td>\n",
       "      <td>female</td>\n",
       "      <td>26.0</td>\n",
       "      <td>0</td>\n",
       "      <td>0</td>\n",
       "      <td>STON/O2. 3101282</td>\n",
       "      <td>7.9250</td>\n",
       "      <td>NaN</td>\n",
       "      <td>S</td>\n",
       "    </tr>\n",
       "    <tr>\n",
       "      <th>3</th>\n",
       "      <td>4</td>\n",
       "      <td>1</td>\n",
       "      <td>1</td>\n",
       "      <td>Futrelle, Mrs. Jacques Heath (Lily May Peel)</td>\n",
       "      <td>female</td>\n",
       "      <td>35.0</td>\n",
       "      <td>1</td>\n",
       "      <td>0</td>\n",
       "      <td>113803</td>\n",
       "      <td>53.1000</td>\n",
       "      <td>C123</td>\n",
       "      <td>S</td>\n",
       "    </tr>\n",
       "    <tr>\n",
       "      <th>4</th>\n",
       "      <td>5</td>\n",
       "      <td>0</td>\n",
       "      <td>3</td>\n",
       "      <td>Allen, Mr. William Henry</td>\n",
       "      <td>male</td>\n",
       "      <td>35.0</td>\n",
       "      <td>0</td>\n",
       "      <td>0</td>\n",
       "      <td>373450</td>\n",
       "      <td>8.0500</td>\n",
       "      <td>NaN</td>\n",
       "      <td>S</td>\n",
       "    </tr>\n",
       "  </tbody>\n",
       "</table>\n",
       "</div>"
      ],
      "text/plain": [
       "   PassengerId  Survived  Pclass  \\\n",
       "0            1         0       3   \n",
       "1            2         1       1   \n",
       "2            3         1       3   \n",
       "3            4         1       1   \n",
       "4            5         0       3   \n",
       "\n",
       "                                                Name     Sex   Age  SibSp  \\\n",
       "0                            Braund, Mr. Owen Harris    male  22.0      1   \n",
       "1  Cumings, Mrs. John Bradley (Florence Briggs Th...  female  38.0      1   \n",
       "2                             Heikkinen, Miss. Laina  female  26.0      0   \n",
       "3       Futrelle, Mrs. Jacques Heath (Lily May Peel)  female  35.0      1   \n",
       "4                           Allen, Mr. William Henry    male  35.0      0   \n",
       "\n",
       "   Parch            Ticket     Fare Cabin Embarked  \n",
       "0      0         A/5 21171   7.2500   NaN        S  \n",
       "1      0          PC 17599  71.2833   C85        C  \n",
       "2      0  STON/O2. 3101282   7.9250   NaN        S  \n",
       "3      0            113803  53.1000  C123        S  \n",
       "4      0            373450   8.0500   NaN        S  "
      ]
     },
     "execution_count": 5,
     "metadata": {},
     "output_type": "execute_result"
    }
   ],
   "source": [
    "data_treino.head()"
   ]
  },
  {
   "cell_type": "code",
   "execution_count": 6,
   "id": "fccb4c46",
   "metadata": {},
   "outputs": [],
   "source": [
    "dicionario = {\n",
    "    \"Survived\": {'sim' : 1, 'Não' : 0},\n",
    "    \"Pclass\": {'1st': 1, '2nd': 2, '3rd':3},\n",
    "    \"sibsp\" : 'of siblings / spouses aboard the Titanic',\n",
    "    \"parch\": 'of parents / children aboard the Titabnic',\n",
    "    \"Embarked\": { 'Cherbourg':'C',  'Queenstown':'Q', 'Southampton':'S' }\n",
    "}"
   ]
  },
  {
   "cell_type": "code",
   "execution_count": 7,
   "id": "82f33aee",
   "metadata": {},
   "outputs": [
    {
     "data": {
      "text/html": [
       "<div>\n",
       "<style scoped>\n",
       "    .dataframe tbody tr th:only-of-type {\n",
       "        vertical-align: middle;\n",
       "    }\n",
       "\n",
       "    .dataframe tbody tr th {\n",
       "        vertical-align: top;\n",
       "    }\n",
       "\n",
       "    .dataframe thead th {\n",
       "        text-align: right;\n",
       "    }\n",
       "</style>\n",
       "<table border=\"1\" class=\"dataframe\">\n",
       "  <thead>\n",
       "    <tr style=\"text-align: right;\">\n",
       "      <th></th>\n",
       "      <th>PassengerId</th>\n",
       "      <th>Survived</th>\n",
       "      <th>Pclass</th>\n",
       "      <th>Age</th>\n",
       "      <th>SibSp</th>\n",
       "      <th>Parch</th>\n",
       "      <th>Fare</th>\n",
       "    </tr>\n",
       "  </thead>\n",
       "  <tbody>\n",
       "    <tr>\n",
       "      <th>count</th>\n",
       "      <td>891.000000</td>\n",
       "      <td>891.000000</td>\n",
       "      <td>891.000000</td>\n",
       "      <td>714.000000</td>\n",
       "      <td>891.000000</td>\n",
       "      <td>891.000000</td>\n",
       "      <td>891.000000</td>\n",
       "    </tr>\n",
       "    <tr>\n",
       "      <th>mean</th>\n",
       "      <td>446.000000</td>\n",
       "      <td>0.383838</td>\n",
       "      <td>2.308642</td>\n",
       "      <td>29.699118</td>\n",
       "      <td>0.523008</td>\n",
       "      <td>0.381594</td>\n",
       "      <td>32.204208</td>\n",
       "    </tr>\n",
       "    <tr>\n",
       "      <th>std</th>\n",
       "      <td>257.353842</td>\n",
       "      <td>0.486592</td>\n",
       "      <td>0.836071</td>\n",
       "      <td>14.526497</td>\n",
       "      <td>1.102743</td>\n",
       "      <td>0.806057</td>\n",
       "      <td>49.693429</td>\n",
       "    </tr>\n",
       "    <tr>\n",
       "      <th>min</th>\n",
       "      <td>1.000000</td>\n",
       "      <td>0.000000</td>\n",
       "      <td>1.000000</td>\n",
       "      <td>0.420000</td>\n",
       "      <td>0.000000</td>\n",
       "      <td>0.000000</td>\n",
       "      <td>0.000000</td>\n",
       "    </tr>\n",
       "    <tr>\n",
       "      <th>25%</th>\n",
       "      <td>223.500000</td>\n",
       "      <td>0.000000</td>\n",
       "      <td>2.000000</td>\n",
       "      <td>20.125000</td>\n",
       "      <td>0.000000</td>\n",
       "      <td>0.000000</td>\n",
       "      <td>7.910400</td>\n",
       "    </tr>\n",
       "    <tr>\n",
       "      <th>50%</th>\n",
       "      <td>446.000000</td>\n",
       "      <td>0.000000</td>\n",
       "      <td>3.000000</td>\n",
       "      <td>28.000000</td>\n",
       "      <td>0.000000</td>\n",
       "      <td>0.000000</td>\n",
       "      <td>14.454200</td>\n",
       "    </tr>\n",
       "    <tr>\n",
       "      <th>75%</th>\n",
       "      <td>668.500000</td>\n",
       "      <td>1.000000</td>\n",
       "      <td>3.000000</td>\n",
       "      <td>38.000000</td>\n",
       "      <td>1.000000</td>\n",
       "      <td>0.000000</td>\n",
       "      <td>31.000000</td>\n",
       "    </tr>\n",
       "    <tr>\n",
       "      <th>max</th>\n",
       "      <td>891.000000</td>\n",
       "      <td>1.000000</td>\n",
       "      <td>3.000000</td>\n",
       "      <td>80.000000</td>\n",
       "      <td>8.000000</td>\n",
       "      <td>6.000000</td>\n",
       "      <td>512.329200</td>\n",
       "    </tr>\n",
       "  </tbody>\n",
       "</table>\n",
       "</div>"
      ],
      "text/plain": [
       "       PassengerId    Survived      Pclass         Age       SibSp  \\\n",
       "count   891.000000  891.000000  891.000000  714.000000  891.000000   \n",
       "mean    446.000000    0.383838    2.308642   29.699118    0.523008   \n",
       "std     257.353842    0.486592    0.836071   14.526497    1.102743   \n",
       "min       1.000000    0.000000    1.000000    0.420000    0.000000   \n",
       "25%     223.500000    0.000000    2.000000   20.125000    0.000000   \n",
       "50%     446.000000    0.000000    3.000000   28.000000    0.000000   \n",
       "75%     668.500000    1.000000    3.000000   38.000000    1.000000   \n",
       "max     891.000000    1.000000    3.000000   80.000000    8.000000   \n",
       "\n",
       "            Parch        Fare  \n",
       "count  891.000000  891.000000  \n",
       "mean     0.381594   32.204208  \n",
       "std      0.806057   49.693429  \n",
       "min      0.000000    0.000000  \n",
       "25%      0.000000    7.910400  \n",
       "50%      0.000000   14.454200  \n",
       "75%      0.000000   31.000000  \n",
       "max      6.000000  512.329200  "
      ]
     },
     "execution_count": 7,
     "metadata": {},
     "output_type": "execute_result"
    }
   ],
   "source": [
    "data_treino.describe()"
   ]
  },
  {
   "cell_type": "code",
   "execution_count": 8,
   "id": "b3c36676",
   "metadata": {},
   "outputs": [
    {
     "data": {
      "text/plain": [
       "PassengerId      0\n",
       "Survived         0\n",
       "Pclass           0\n",
       "Name             0\n",
       "Sex              0\n",
       "Age            177\n",
       "SibSp            0\n",
       "Parch            0\n",
       "Ticket           0\n",
       "Fare             0\n",
       "Cabin          687\n",
       "Embarked         2\n",
       "dtype: int64"
      ]
     },
     "execution_count": 8,
     "metadata": {},
     "output_type": "execute_result"
    }
   ],
   "source": [
    "nulos = data_treino.isnull().sum()\n",
    "nulos"
   ]
  },
  {
   "cell_type": "markdown",
   "id": "6b76aa3e",
   "metadata": {},
   "source": [
    "impacto da remoção dos nulos dos dados"
   ]
  },
  {
   "cell_type": "code",
   "execution_count": 9,
   "id": "e6b5acab",
   "metadata": {},
   "outputs": [
    {
     "data": {
      "text/plain": [
       "96.96969696969697"
      ]
     },
     "execution_count": 9,
     "metadata": {},
     "output_type": "execute_result"
    }
   ],
   "source": [
    "soma_nulos = nulos['Age'] + nulos['Cabin']\n",
    "porcento_nulos = (soma_nulos*100)/len(data_treino)\n",
    "porcento_nulos"
   ]
  },
  {
   "cell_type": "code",
   "execution_count": 10,
   "id": "5cec91a4",
   "metadata": {},
   "outputs": [
    {
     "name": "stdout",
     "output_type": "stream",
     "text": [
      "Os nulos representam 96.97 dos dados\n"
     ]
    }
   ],
   "source": [
    "print(f'Os nulos representam {porcento_nulos :.2f} dos dados')\n"
   ]
  },
  {
   "cell_type": "markdown",
   "id": "76b57d4e",
   "metadata": {},
   "source": [
    "Opções: 1- Não utilizar as colunas com dados nulos     2- Preencher os dados com estimativas"
   ]
  },
  {
   "cell_type": "markdown",
   "id": "e822fbbc",
   "metadata": {},
   "source": [
    "### Opção 2 - preenchendo os dados"
   ]
  },
  {
   "cell_type": "code",
   "execution_count": 11,
   "id": "4bb91297",
   "metadata": {},
   "outputs": [],
   "source": [
    "cabine = data_treino[['Cabin','Fare','Pclass']]\n",
    "cabine_normalizado = cabine[cabine.Cabin.notnull()]"
   ]
  },
  {
   "cell_type": "code",
   "execution_count": 12,
   "id": "76667094",
   "metadata": {},
   "outputs": [],
   "source": [
    "classe = []\n",
    "for i in cabine_normalizado['Cabin']:\n",
    "\n",
    "    classe.append(i[0])"
   ]
  },
  {
   "cell_type": "code",
   "execution_count": 13,
   "id": "2e4735ca",
   "metadata": {},
   "outputs": [],
   "source": [
    "cabine_normalizado = cabine_normalizado.drop('Cabin',axis=1,inplace=False)\n",
    "cabine_normalizado['Cabin'] = np.array(classe)"
   ]
  },
  {
   "cell_type": "code",
   "execution_count": 14,
   "id": "f25c460d",
   "metadata": {},
   "outputs": [
    {
     "data": {
      "text/plain": [
       "Cabin  Pclass\n",
       "A      1          39.623887\n",
       "B      1         113.505764\n",
       "C      1         100.151341\n",
       "D      1          63.324286\n",
       "       2          13.166675\n",
       "E      1          55.740168\n",
       "       2          11.587500\n",
       "       3          11.000000\n",
       "F      2          23.750000\n",
       "       3          10.611660\n",
       "G      3          13.581250\n",
       "T      1          35.500000\n",
       "Name: Fare, dtype: float64"
      ]
     },
     "execution_count": 14,
     "metadata": {},
     "output_type": "execute_result"
    }
   ],
   "source": [
    "cabine_normalizado.groupby(['Cabin','Pclass'])['Fare'].mean()"
   ]
  },
  {
   "cell_type": "code",
   "execution_count": 15,
   "id": "0837277d",
   "metadata": {},
   "outputs": [
    {
     "data": {
      "text/plain": [
       "Cabin  Pclass\n",
       "A      1          17.975333\n",
       "B      1         109.301500\n",
       "C      1          70.225588\n",
       "D      1          26.172260\n",
       "       2           0.420829\n",
       "E      1          30.386910\n",
       "       2           1.283469\n",
       "       3           2.554775\n",
       "F      2          11.631239\n",
       "       3           6.566714\n",
       "G      3           3.601222\n",
       "T      1                NaN\n",
       "Name: Fare, dtype: float64"
      ]
     },
     "execution_count": 15,
     "metadata": {},
     "output_type": "execute_result"
    }
   ],
   "source": [
    "cabine_normalizado.groupby(['Cabin','Pclass'])['Fare'].std()"
   ]
  },
  {
   "cell_type": "code",
   "execution_count": 16,
   "id": "548ac856",
   "metadata": {},
   "outputs": [],
   "source": [
    "media_cabine = cabine_normalizado.groupby(['Cabin','Pclass'])['Fare'].mean()\n",
    "desvio_cabine = cabine_normalizado.groupby(['Cabin','Pclass'])['Fare'].std()\n"
   ]
  },
  {
   "cell_type": "code",
   "execution_count": 17,
   "id": "7821944b",
   "metadata": {},
   "outputs": [],
   "source": [
    "preco = []\n",
    "\n",
    "for key in media_cabine.index:\n",
    "    preco.append((media_cabine[key]-desvio_cabine[key],media_cabine[key]+desvio_cabine[key]))\n"
   ]
  },
  {
   "cell_type": "code",
   "execution_count": 19,
   "id": "e2589363",
   "metadata": {},
   "outputs": [
    {
     "data": {
      "text/plain": [
       "[(21.648553705599205, 57.59921962773412),\n",
       " (4.204263573663951, 222.80726408591053),\n",
       " (29.925752316408477, 170.37692903952373),\n",
       " (37.1520258839799, 89.4965465298132),\n",
       " (12.745845791769392, 13.587504208230607),\n",
       " (25.35325787531638, 86.12707812468363),\n",
       " (10.304031392410915, 12.870968607589086),\n",
       " (8.445225058835906, 13.554774941164094),\n",
       " (12.118761274665786, 35.381238725334214),\n",
       " (4.0449458461784715, 17.17837415382153),\n",
       " (9.98002769592971, 17.18247230407029),\n",
       " (nan, nan)]"
      ]
     },
     "execution_count": 19,
     "metadata": {},
     "output_type": "execute_result"
    }
   ],
   "source": [
    "preco\n"
   ]
  },
  {
   "cell_type": "code",
   "execution_count": 18,
   "id": "2a5b1df9",
   "metadata": {},
   "outputs": [
    {
     "data": {
      "text/plain": [
       "2.554774941164094"
      ]
     },
     "execution_count": 18,
     "metadata": {},
     "output_type": "execute_result"
    }
   ],
   "source": [
    "desvio_cabine['E'][3]"
   ]
  },
  {
   "cell_type": "code",
   "execution_count": null,
   "id": "5663aec7",
   "metadata": {},
   "outputs": [],
   "source": []
  }
 ],
 "metadata": {
  "kernelspec": {
   "display_name": "Python 3 (ipykernel)",
   "language": "python",
   "name": "python3"
  },
  "language_info": {
   "codemirror_mode": {
    "name": "ipython",
    "version": 3
   },
   "file_extension": ".py",
   "mimetype": "text/x-python",
   "name": "python",
   "nbconvert_exporter": "python",
   "pygments_lexer": "ipython3",
   "version": "3.10.8"
  }
 },
 "nbformat": 4,
 "nbformat_minor": 5
}
