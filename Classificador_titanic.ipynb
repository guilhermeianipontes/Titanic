{
 "cells": [
  {
   "cell_type": "markdown",
   "id": "9c011229",
   "metadata": {},
   "source": [
    "# Classificação - Titanic Dataset"
   ]
  },
  {
   "cell_type": "markdown",
   "id": "9e266142",
   "metadata": {},
   "source": [
    "## Importando bibliotecas"
   ]
  },
  {
   "cell_type": "code",
   "execution_count": 1,
   "id": "56d47e1d",
   "metadata": {},
   "outputs": [],
   "source": [
    "import numpy as np\n",
    "import pandas as pd \n",
    "import matplotlib.pyplot as plt\n",
    "import seaborn as sns"
   ]
  },
  {
   "cell_type": "markdown",
   "id": "6895745a",
   "metadata": {},
   "source": [
    "## Importando os dados"
   ]
  },
  {
   "cell_type": "code",
   "execution_count": 2,
   "id": "1eefec6d",
   "metadata": {},
   "outputs": [],
   "source": [
    "data_resultados_teste = pd.read_csv('titanic_data\\gender_submission.csv')"
   ]
  },
  {
   "cell_type": "code",
   "execution_count": 3,
   "id": "a6686d89",
   "metadata": {},
   "outputs": [],
   "source": [
    "data_treino = pd.read_csv(r\"titanic_data/train.csv\")"
   ]
  },
  {
   "cell_type": "code",
   "execution_count": 4,
   "id": "bab105b0",
   "metadata": {},
   "outputs": [],
   "source": [
    "data_teste = pd.read_csv(r\"titanic_data\\test.csv\")"
   ]
  },
  {
   "cell_type": "markdown",
   "id": "57a35817",
   "metadata": {},
   "source": [
    "## Conhecendo os dados"
   ]
  },
  {
   "cell_type": "code",
   "execution_count": 5,
   "id": "b7a493ba",
   "metadata": {},
   "outputs": [
    {
     "data": {
      "text/html": [
       "<div>\n",
       "<style scoped>\n",
       "    .dataframe tbody tr th:only-of-type {\n",
       "        vertical-align: middle;\n",
       "    }\n",
       "\n",
       "    .dataframe tbody tr th {\n",
       "        vertical-align: top;\n",
       "    }\n",
       "\n",
       "    .dataframe thead th {\n",
       "        text-align: right;\n",
       "    }\n",
       "</style>\n",
       "<table border=\"1\" class=\"dataframe\">\n",
       "  <thead>\n",
       "    <tr style=\"text-align: right;\">\n",
       "      <th></th>\n",
       "      <th>PassengerId</th>\n",
       "      <th>Survived</th>\n",
       "      <th>Pclass</th>\n",
       "      <th>Name</th>\n",
       "      <th>Sex</th>\n",
       "      <th>Age</th>\n",
       "      <th>SibSp</th>\n",
       "      <th>Parch</th>\n",
       "      <th>Ticket</th>\n",
       "      <th>Fare</th>\n",
       "      <th>Cabin</th>\n",
       "      <th>Embarked</th>\n",
       "    </tr>\n",
       "  </thead>\n",
       "  <tbody>\n",
       "    <tr>\n",
       "      <th>0</th>\n",
       "      <td>1</td>\n",
       "      <td>0</td>\n",
       "      <td>3</td>\n",
       "      <td>Braund, Mr. Owen Harris</td>\n",
       "      <td>male</td>\n",
       "      <td>22.0</td>\n",
       "      <td>1</td>\n",
       "      <td>0</td>\n",
       "      <td>A/5 21171</td>\n",
       "      <td>7.2500</td>\n",
       "      <td>NaN</td>\n",
       "      <td>S</td>\n",
       "    </tr>\n",
       "    <tr>\n",
       "      <th>1</th>\n",
       "      <td>2</td>\n",
       "      <td>1</td>\n",
       "      <td>1</td>\n",
       "      <td>Cumings, Mrs. John Bradley (Florence Briggs Th...</td>\n",
       "      <td>female</td>\n",
       "      <td>38.0</td>\n",
       "      <td>1</td>\n",
       "      <td>0</td>\n",
       "      <td>PC 17599</td>\n",
       "      <td>71.2833</td>\n",
       "      <td>C85</td>\n",
       "      <td>C</td>\n",
       "    </tr>\n",
       "    <tr>\n",
       "      <th>2</th>\n",
       "      <td>3</td>\n",
       "      <td>1</td>\n",
       "      <td>3</td>\n",
       "      <td>Heikkinen, Miss. Laina</td>\n",
       "      <td>female</td>\n",
       "      <td>26.0</td>\n",
       "      <td>0</td>\n",
       "      <td>0</td>\n",
       "      <td>STON/O2. 3101282</td>\n",
       "      <td>7.9250</td>\n",
       "      <td>NaN</td>\n",
       "      <td>S</td>\n",
       "    </tr>\n",
       "    <tr>\n",
       "      <th>3</th>\n",
       "      <td>4</td>\n",
       "      <td>1</td>\n",
       "      <td>1</td>\n",
       "      <td>Futrelle, Mrs. Jacques Heath (Lily May Peel)</td>\n",
       "      <td>female</td>\n",
       "      <td>35.0</td>\n",
       "      <td>1</td>\n",
       "      <td>0</td>\n",
       "      <td>113803</td>\n",
       "      <td>53.1000</td>\n",
       "      <td>C123</td>\n",
       "      <td>S</td>\n",
       "    </tr>\n",
       "    <tr>\n",
       "      <th>4</th>\n",
       "      <td>5</td>\n",
       "      <td>0</td>\n",
       "      <td>3</td>\n",
       "      <td>Allen, Mr. William Henry</td>\n",
       "      <td>male</td>\n",
       "      <td>35.0</td>\n",
       "      <td>0</td>\n",
       "      <td>0</td>\n",
       "      <td>373450</td>\n",
       "      <td>8.0500</td>\n",
       "      <td>NaN</td>\n",
       "      <td>S</td>\n",
       "    </tr>\n",
       "  </tbody>\n",
       "</table>\n",
       "</div>"
      ],
      "text/plain": [
       "   PassengerId  Survived  Pclass  \\\n",
       "0            1         0       3   \n",
       "1            2         1       1   \n",
       "2            3         1       3   \n",
       "3            4         1       1   \n",
       "4            5         0       3   \n",
       "\n",
       "                                                Name     Sex   Age  SibSp  \\\n",
       "0                            Braund, Mr. Owen Harris    male  22.0      1   \n",
       "1  Cumings, Mrs. John Bradley (Florence Briggs Th...  female  38.0      1   \n",
       "2                             Heikkinen, Miss. Laina  female  26.0      0   \n",
       "3       Futrelle, Mrs. Jacques Heath (Lily May Peel)  female  35.0      1   \n",
       "4                           Allen, Mr. William Henry    male  35.0      0   \n",
       "\n",
       "   Parch            Ticket     Fare Cabin Embarked  \n",
       "0      0         A/5 21171   7.2500   NaN        S  \n",
       "1      0          PC 17599  71.2833   C85        C  \n",
       "2      0  STON/O2. 3101282   7.9250   NaN        S  \n",
       "3      0            113803  53.1000  C123        S  \n",
       "4      0            373450   8.0500   NaN        S  "
      ]
     },
     "execution_count": 5,
     "metadata": {},
     "output_type": "execute_result"
    }
   ],
   "source": [
    "data_treino.head()"
   ]
  },
  {
   "cell_type": "code",
   "execution_count": 6,
   "id": "fccb4c46",
   "metadata": {},
   "outputs": [],
   "source": [
    "dicionario = {\n",
    "    \"Survived\": {'sim' : 1, 'Não' : 0},\n",
    "    \"Pclass\": {'1st': 1, '2nd': 2, '3rd':3},\n",
    "    \"sibsp\" : 'of siblings / spouses aboard the Titanic',\n",
    "    \"parch\": 'of parents / children aboard the Titabnic',\n",
    "    \"Embarked\": { 'Cherbourg':'C',  'Queenstown':'Q', 'Southampton':'S' }\n",
    "}"
   ]
  },
  {
   "cell_type": "code",
   "execution_count": 7,
   "id": "82f33aee",
   "metadata": {},
   "outputs": [
    {
     "data": {
      "text/html": [
       "<div>\n",
       "<style scoped>\n",
       "    .dataframe tbody tr th:only-of-type {\n",
       "        vertical-align: middle;\n",
       "    }\n",
       "\n",
       "    .dataframe tbody tr th {\n",
       "        vertical-align: top;\n",
       "    }\n",
       "\n",
       "    .dataframe thead th {\n",
       "        text-align: right;\n",
       "    }\n",
       "</style>\n",
       "<table border=\"1\" class=\"dataframe\">\n",
       "  <thead>\n",
       "    <tr style=\"text-align: right;\">\n",
       "      <th></th>\n",
       "      <th>PassengerId</th>\n",
       "      <th>Survived</th>\n",
       "      <th>Pclass</th>\n",
       "      <th>Age</th>\n",
       "      <th>SibSp</th>\n",
       "      <th>Parch</th>\n",
       "      <th>Fare</th>\n",
       "    </tr>\n",
       "  </thead>\n",
       "  <tbody>\n",
       "    <tr>\n",
       "      <th>count</th>\n",
       "      <td>891.000000</td>\n",
       "      <td>891.000000</td>\n",
       "      <td>891.000000</td>\n",
       "      <td>714.000000</td>\n",
       "      <td>891.000000</td>\n",
       "      <td>891.000000</td>\n",
       "      <td>891.000000</td>\n",
       "    </tr>\n",
       "    <tr>\n",
       "      <th>mean</th>\n",
       "      <td>446.000000</td>\n",
       "      <td>0.383838</td>\n",
       "      <td>2.308642</td>\n",
       "      <td>29.699118</td>\n",
       "      <td>0.523008</td>\n",
       "      <td>0.381594</td>\n",
       "      <td>32.204208</td>\n",
       "    </tr>\n",
       "    <tr>\n",
       "      <th>std</th>\n",
       "      <td>257.353842</td>\n",
       "      <td>0.486592</td>\n",
       "      <td>0.836071</td>\n",
       "      <td>14.526497</td>\n",
       "      <td>1.102743</td>\n",
       "      <td>0.806057</td>\n",
       "      <td>49.693429</td>\n",
       "    </tr>\n",
       "    <tr>\n",
       "      <th>min</th>\n",
       "      <td>1.000000</td>\n",
       "      <td>0.000000</td>\n",
       "      <td>1.000000</td>\n",
       "      <td>0.420000</td>\n",
       "      <td>0.000000</td>\n",
       "      <td>0.000000</td>\n",
       "      <td>0.000000</td>\n",
       "    </tr>\n",
       "    <tr>\n",
       "      <th>25%</th>\n",
       "      <td>223.500000</td>\n",
       "      <td>0.000000</td>\n",
       "      <td>2.000000</td>\n",
       "      <td>20.125000</td>\n",
       "      <td>0.000000</td>\n",
       "      <td>0.000000</td>\n",
       "      <td>7.910400</td>\n",
       "    </tr>\n",
       "    <tr>\n",
       "      <th>50%</th>\n",
       "      <td>446.000000</td>\n",
       "      <td>0.000000</td>\n",
       "      <td>3.000000</td>\n",
       "      <td>28.000000</td>\n",
       "      <td>0.000000</td>\n",
       "      <td>0.000000</td>\n",
       "      <td>14.454200</td>\n",
       "    </tr>\n",
       "    <tr>\n",
       "      <th>75%</th>\n",
       "      <td>668.500000</td>\n",
       "      <td>1.000000</td>\n",
       "      <td>3.000000</td>\n",
       "      <td>38.000000</td>\n",
       "      <td>1.000000</td>\n",
       "      <td>0.000000</td>\n",
       "      <td>31.000000</td>\n",
       "    </tr>\n",
       "    <tr>\n",
       "      <th>max</th>\n",
       "      <td>891.000000</td>\n",
       "      <td>1.000000</td>\n",
       "      <td>3.000000</td>\n",
       "      <td>80.000000</td>\n",
       "      <td>8.000000</td>\n",
       "      <td>6.000000</td>\n",
       "      <td>512.329200</td>\n",
       "    </tr>\n",
       "  </tbody>\n",
       "</table>\n",
       "</div>"
      ],
      "text/plain": [
       "       PassengerId    Survived      Pclass         Age       SibSp  \\\n",
       "count   891.000000  891.000000  891.000000  714.000000  891.000000   \n",
       "mean    446.000000    0.383838    2.308642   29.699118    0.523008   \n",
       "std     257.353842    0.486592    0.836071   14.526497    1.102743   \n",
       "min       1.000000    0.000000    1.000000    0.420000    0.000000   \n",
       "25%     223.500000    0.000000    2.000000   20.125000    0.000000   \n",
       "50%     446.000000    0.000000    3.000000   28.000000    0.000000   \n",
       "75%     668.500000    1.000000    3.000000   38.000000    1.000000   \n",
       "max     891.000000    1.000000    3.000000   80.000000    8.000000   \n",
       "\n",
       "            Parch        Fare  \n",
       "count  891.000000  891.000000  \n",
       "mean     0.381594   32.204208  \n",
       "std      0.806057   49.693429  \n",
       "min      0.000000    0.000000  \n",
       "25%      0.000000    7.910400  \n",
       "50%      0.000000   14.454200  \n",
       "75%      0.000000   31.000000  \n",
       "max      6.000000  512.329200  "
      ]
     },
     "execution_count": 7,
     "metadata": {},
     "output_type": "execute_result"
    }
   ],
   "source": [
    "data_treino.describe()"
   ]
  },
  {
   "cell_type": "code",
   "execution_count": 8,
   "id": "b3c36676",
   "metadata": {},
   "outputs": [
    {
     "data": {
      "text/plain": [
       "PassengerId      0\n",
       "Survived         0\n",
       "Pclass           0\n",
       "Name             0\n",
       "Sex              0\n",
       "Age            177\n",
       "SibSp            0\n",
       "Parch            0\n",
       "Ticket           0\n",
       "Fare             0\n",
       "Cabin          687\n",
       "Embarked         2\n",
       "dtype: int64"
      ]
     },
     "execution_count": 8,
     "metadata": {},
     "output_type": "execute_result"
    }
   ],
   "source": [
    "nulos = data_treino.isnull().sum()\n",
    "nulos"
   ]
  },
  {
   "cell_type": "markdown",
   "id": "6b76aa3e",
   "metadata": {},
   "source": [
    "impacto da remoção dos nulos dos dados"
   ]
  },
  {
   "cell_type": "code",
   "execution_count": 9,
   "id": "e6b5acab",
   "metadata": {},
   "outputs": [
    {
     "data": {
      "text/plain": [
       "96.96969696969697"
      ]
     },
     "execution_count": 9,
     "metadata": {},
     "output_type": "execute_result"
    }
   ],
   "source": [
    "soma_nulos = nulos['Age'] + nulos['Cabin']\n",
    "porcento_nulos = (soma_nulos*100)/len(data_treino)\n",
    "porcento_nulos"
   ]
  },
  {
   "cell_type": "code",
   "execution_count": 10,
   "id": "5cec91a4",
   "metadata": {},
   "outputs": [
    {
     "name": "stdout",
     "output_type": "stream",
     "text": [
      "Os nulos representam 96.97 dos dados\n"
     ]
    }
   ],
   "source": [
    "print(f'Os nulos representam {porcento_nulos :.2f} dos dados')\n"
   ]
  },
  {
   "cell_type": "markdown",
   "id": "76b57d4e",
   "metadata": {},
   "source": [
    "Opções: 1- Não utilizar as colunas com dados nulos     2- Preencher os dados com estimativas"
   ]
  },
  {
   "cell_type": "markdown",
   "id": "e822fbbc",
   "metadata": {},
   "source": [
    "### Opção 2 - preenchendo os dados"
   ]
  },
  {
   "cell_type": "code",
   "execution_count": 11,
   "id": "4bb91297",
   "metadata": {},
   "outputs": [],
   "source": [
    "cabine = data_treino[['Cabin','Fare','Pclass']]\n",
    "cabine_normalizado = cabine[cabine.Cabin.notnull()]"
   ]
  },
  {
   "cell_type": "code",
   "execution_count": 12,
   "id": "76667094",
   "metadata": {},
   "outputs": [],
   "source": [
    "classe = []\n",
    "for i in cabine_normalizado['Cabin']:\n",
    "\n",
    "    classe.append(i[0])"
   ]
  },
  {
   "cell_type": "code",
   "execution_count": 13,
   "id": "2e4735ca",
   "metadata": {},
   "outputs": [],
   "source": [
    "cabine_normalizado = cabine_normalizado.drop('Cabin',axis=1,inplace=False)\n",
    "cabine_normalizado['Cabin'] = np.array(classe)"
   ]
  },
  {
   "cell_type": "code",
   "execution_count": 14,
   "id": "f25c460d",
   "metadata": {},
   "outputs": [
    {
     "data": {
      "text/plain": [
       "Cabin  Pclass\n",
       "A      1          39.623887\n",
       "B      1         113.505764\n",
       "C      1         100.151341\n",
       "D      1          63.324286\n",
       "       2          13.166675\n",
       "E      1          55.740168\n",
       "       2          11.587500\n",
       "       3          11.000000\n",
       "F      2          23.750000\n",
       "       3          10.611660\n",
       "G      3          13.581250\n",
       "T      1          35.500000\n",
       "Name: Fare, dtype: float64"
      ]
     },
     "execution_count": 14,
     "metadata": {},
     "output_type": "execute_result"
    }
   ],
   "source": [
    "cabine_normalizado.groupby(['Cabin','Pclass'])['Fare'].mean()"
   ]
  },
  {
   "cell_type": "code",
   "execution_count": 15,
   "id": "0837277d",
   "metadata": {},
   "outputs": [
    {
     "data": {
      "text/plain": [
       "Cabin  Pclass\n",
       "A      1          17.975333\n",
       "B      1         109.301500\n",
       "C      1          70.225588\n",
       "D      1          26.172260\n",
       "       2           0.420829\n",
       "E      1          30.386910\n",
       "       2           1.283469\n",
       "       3           2.554775\n",
       "F      2          11.631239\n",
       "       3           6.566714\n",
       "G      3           3.601222\n",
       "T      1                NaN\n",
       "Name: Fare, dtype: float64"
      ]
     },
     "execution_count": 15,
     "metadata": {},
     "output_type": "execute_result"
    }
   ],
   "source": [
    "cabine_normalizado.groupby(['Cabin','Pclass'])['Fare'].std()"
   ]
  },
  {
   "cell_type": "code",
   "execution_count": 16,
   "id": "548ac856",
   "metadata": {},
   "outputs": [],
   "source": [
    "media_cabine = cabine_normalizado.groupby(['Cabin','Pclass'])['Fare'].mean()\n",
    "desvio_cabine = cabine_normalizado.groupby(['Cabin','Pclass'])['Fare'].std()\n"
   ]
  },
  {
   "cell_type": "code",
   "execution_count": 17,
   "id": "7821944b",
   "metadata": {},
   "outputs": [
    {
     "name": "stdout",
     "output_type": "stream",
     "text": [
      "[(21.648553705599205, 57.59921962773412), (4.204263573663951, 222.80726408591053), (29.925752316408477, 170.37692903952373), (37.1520258839799, 89.4965465298132), (12.745845791769392, 13.587504208230607), (25.35325787531638, 86.12707812468363), (10.304031392410915, 12.870968607589086), (8.445225058835906, 13.554774941164094), (12.118761274665786, 35.381238725334214), (4.0449458461784715, 17.17837415382153), (9.98002769592971, 17.18247230407029), (nan, nan)]\n"
     ]
    }
   ],
   "source": [
    "preco_cabin = []\n",
    "\n",
    "for key in media_cabine.index:\n",
    "    preco_cabin.append((media_cabine[key]-desvio_cabine[key],media_cabine[key]+desvio_cabine[key]))\n",
    "\n",
    "\n",
    "print(preco_cabin)\n"
   ]
  },
  {
   "cell_type": "markdown",
   "id": "8cdc4724",
   "metadata": {},
   "source": [
    "#### Nota-se que os dados de Cabine podem ser estimados com segurança a partir do preço (Fare) combinados com a classe (Pclass), dessa forma a remoção dessa coluna, não representará perda significativa de finformação, já que esses dados são correlacionados.\n"
   ]
  },
  {
   "cell_type": "code",
   "execution_count": 18,
   "id": "5663aec7",
   "metadata": {},
   "outputs": [],
   "source": [
    "data_treino_2 = data_treino.drop(['Cabin','Ticket','Name','PassengerId'],axis=1)\n"
   ]
  },
  {
   "cell_type": "code",
   "execution_count": 19,
   "id": "eda6ca55",
   "metadata": {},
   "outputs": [
    {
     "data": {
      "text/plain": [
       "Survived      0\n",
       "Pclass        0\n",
       "Sex           0\n",
       "Age         177\n",
       "SibSp         0\n",
       "Parch         0\n",
       "Fare          0\n",
       "Embarked      2\n",
       "dtype: int64"
      ]
     },
     "execution_count": 19,
     "metadata": {},
     "output_type": "execute_result"
    }
   ],
   "source": [
    "nulos = data_treino_2.isnull().sum()\n",
    "nulos"
   ]
  },
  {
   "cell_type": "code",
   "execution_count": 20,
   "id": "2da77807",
   "metadata": {},
   "outputs": [
    {
     "data": {
      "text/plain": [
       "19.865319865319865"
      ]
     },
     "execution_count": 20,
     "metadata": {},
     "output_type": "execute_result"
    }
   ],
   "source": [
    "soma_nulos = nulos['Age']\n",
    "porcento_nulos = (soma_nulos*100)/len(data_treino)\n",
    "porcento_nulos"
   ]
  },
  {
   "cell_type": "code",
   "execution_count": 21,
   "id": "c12000bd",
   "metadata": {},
   "outputs": [
    {
     "data": {
      "text/plain": [
       "714"
      ]
     },
     "execution_count": 21,
     "metadata": {},
     "output_type": "execute_result"
    }
   ],
   "source": [
    "len(data_treino)-(soma_nulos)"
   ]
  },
  {
   "cell_type": "code",
   "execution_count": 22,
   "id": "8d3a8ebd",
   "metadata": {},
   "outputs": [],
   "source": [
    "data_treino_3 = data_treino_2.dropna()"
   ]
  },
  {
   "cell_type": "code",
   "execution_count": 23,
   "id": "5b07144c",
   "metadata": {},
   "outputs": [
    {
     "data": {
      "text/plain": [
       "712"
      ]
     },
     "execution_count": 23,
     "metadata": {},
     "output_type": "execute_result"
    }
   ],
   "source": [
    "len(data_treino_3)"
   ]
  },
  {
   "cell_type": "code",
   "execution_count": 24,
   "id": "a0841fe6",
   "metadata": {},
   "outputs": [
    {
     "data": {
      "text/html": [
       "<div>\n",
       "<style scoped>\n",
       "    .dataframe tbody tr th:only-of-type {\n",
       "        vertical-align: middle;\n",
       "    }\n",
       "\n",
       "    .dataframe tbody tr th {\n",
       "        vertical-align: top;\n",
       "    }\n",
       "\n",
       "    .dataframe thead th {\n",
       "        text-align: right;\n",
       "    }\n",
       "</style>\n",
       "<table border=\"1\" class=\"dataframe\">\n",
       "  <thead>\n",
       "    <tr style=\"text-align: right;\">\n",
       "      <th></th>\n",
       "      <th>Survived</th>\n",
       "      <th>Pclass</th>\n",
       "      <th>Sex</th>\n",
       "      <th>Age</th>\n",
       "      <th>SibSp</th>\n",
       "      <th>Parch</th>\n",
       "      <th>Fare</th>\n",
       "      <th>Embarked</th>\n",
       "    </tr>\n",
       "  </thead>\n",
       "  <tbody>\n",
       "    <tr>\n",
       "      <th>0</th>\n",
       "      <td>0</td>\n",
       "      <td>3</td>\n",
       "      <td>male</td>\n",
       "      <td>22.0</td>\n",
       "      <td>1</td>\n",
       "      <td>0</td>\n",
       "      <td>7.2500</td>\n",
       "      <td>S</td>\n",
       "    </tr>\n",
       "    <tr>\n",
       "      <th>1</th>\n",
       "      <td>1</td>\n",
       "      <td>1</td>\n",
       "      <td>female</td>\n",
       "      <td>38.0</td>\n",
       "      <td>1</td>\n",
       "      <td>0</td>\n",
       "      <td>71.2833</td>\n",
       "      <td>C</td>\n",
       "    </tr>\n",
       "    <tr>\n",
       "      <th>2</th>\n",
       "      <td>1</td>\n",
       "      <td>3</td>\n",
       "      <td>female</td>\n",
       "      <td>26.0</td>\n",
       "      <td>0</td>\n",
       "      <td>0</td>\n",
       "      <td>7.9250</td>\n",
       "      <td>S</td>\n",
       "    </tr>\n",
       "    <tr>\n",
       "      <th>3</th>\n",
       "      <td>1</td>\n",
       "      <td>1</td>\n",
       "      <td>female</td>\n",
       "      <td>35.0</td>\n",
       "      <td>1</td>\n",
       "      <td>0</td>\n",
       "      <td>53.1000</td>\n",
       "      <td>S</td>\n",
       "    </tr>\n",
       "    <tr>\n",
       "      <th>4</th>\n",
       "      <td>0</td>\n",
       "      <td>3</td>\n",
       "      <td>male</td>\n",
       "      <td>35.0</td>\n",
       "      <td>0</td>\n",
       "      <td>0</td>\n",
       "      <td>8.0500</td>\n",
       "      <td>S</td>\n",
       "    </tr>\n",
       "  </tbody>\n",
       "</table>\n",
       "</div>"
      ],
      "text/plain": [
       "   Survived  Pclass     Sex   Age  SibSp  Parch     Fare Embarked\n",
       "0         0       3    male  22.0      1      0   7.2500        S\n",
       "1         1       1  female  38.0      1      0  71.2833        C\n",
       "2         1       3  female  26.0      0      0   7.9250        S\n",
       "3         1       1  female  35.0      1      0  53.1000        S\n",
       "4         0       3    male  35.0      0      0   8.0500        S"
      ]
     },
     "execution_count": 24,
     "metadata": {},
     "output_type": "execute_result"
    }
   ],
   "source": [
    "data_treino_3.head()"
   ]
  },
  {
   "cell_type": "code",
   "execution_count": 25,
   "id": "701eca21",
   "metadata": {},
   "outputs": [],
   "source": [
    "\n",
    "data_treino_4 = data_treino_3.replace({\"Sex\":{'male':0,'female':1},\n",
    "                                      \"Embarked\":{'S':0,'Q':0.5,'C':1}})"
   ]
  },
  {
   "cell_type": "code",
   "execution_count": 26,
   "id": "78ee63eb",
   "metadata": {},
   "outputs": [
    {
     "data": {
      "text/html": [
       "<div>\n",
       "<style scoped>\n",
       "    .dataframe tbody tr th:only-of-type {\n",
       "        vertical-align: middle;\n",
       "    }\n",
       "\n",
       "    .dataframe tbody tr th {\n",
       "        vertical-align: top;\n",
       "    }\n",
       "\n",
       "    .dataframe thead th {\n",
       "        text-align: right;\n",
       "    }\n",
       "</style>\n",
       "<table border=\"1\" class=\"dataframe\">\n",
       "  <thead>\n",
       "    <tr style=\"text-align: right;\">\n",
       "      <th></th>\n",
       "      <th>Survived</th>\n",
       "      <th>Pclass</th>\n",
       "      <th>Sex</th>\n",
       "      <th>Age</th>\n",
       "      <th>SibSp</th>\n",
       "      <th>Parch</th>\n",
       "      <th>Fare</th>\n",
       "      <th>Embarked</th>\n",
       "    </tr>\n",
       "  </thead>\n",
       "  <tbody>\n",
       "    <tr>\n",
       "      <th>0</th>\n",
       "      <td>0</td>\n",
       "      <td>3</td>\n",
       "      <td>0</td>\n",
       "      <td>22.0</td>\n",
       "      <td>1</td>\n",
       "      <td>0</td>\n",
       "      <td>7.2500</td>\n",
       "      <td>0.0</td>\n",
       "    </tr>\n",
       "    <tr>\n",
       "      <th>1</th>\n",
       "      <td>1</td>\n",
       "      <td>1</td>\n",
       "      <td>1</td>\n",
       "      <td>38.0</td>\n",
       "      <td>1</td>\n",
       "      <td>0</td>\n",
       "      <td>71.2833</td>\n",
       "      <td>1.0</td>\n",
       "    </tr>\n",
       "    <tr>\n",
       "      <th>2</th>\n",
       "      <td>1</td>\n",
       "      <td>3</td>\n",
       "      <td>1</td>\n",
       "      <td>26.0</td>\n",
       "      <td>0</td>\n",
       "      <td>0</td>\n",
       "      <td>7.9250</td>\n",
       "      <td>0.0</td>\n",
       "    </tr>\n",
       "    <tr>\n",
       "      <th>3</th>\n",
       "      <td>1</td>\n",
       "      <td>1</td>\n",
       "      <td>1</td>\n",
       "      <td>35.0</td>\n",
       "      <td>1</td>\n",
       "      <td>0</td>\n",
       "      <td>53.1000</td>\n",
       "      <td>0.0</td>\n",
       "    </tr>\n",
       "    <tr>\n",
       "      <th>4</th>\n",
       "      <td>0</td>\n",
       "      <td>3</td>\n",
       "      <td>0</td>\n",
       "      <td>35.0</td>\n",
       "      <td>0</td>\n",
       "      <td>0</td>\n",
       "      <td>8.0500</td>\n",
       "      <td>0.0</td>\n",
       "    </tr>\n",
       "    <tr>\n",
       "      <th>...</th>\n",
       "      <td>...</td>\n",
       "      <td>...</td>\n",
       "      <td>...</td>\n",
       "      <td>...</td>\n",
       "      <td>...</td>\n",
       "      <td>...</td>\n",
       "      <td>...</td>\n",
       "      <td>...</td>\n",
       "    </tr>\n",
       "    <tr>\n",
       "      <th>885</th>\n",
       "      <td>0</td>\n",
       "      <td>3</td>\n",
       "      <td>1</td>\n",
       "      <td>39.0</td>\n",
       "      <td>0</td>\n",
       "      <td>5</td>\n",
       "      <td>29.1250</td>\n",
       "      <td>0.5</td>\n",
       "    </tr>\n",
       "    <tr>\n",
       "      <th>886</th>\n",
       "      <td>0</td>\n",
       "      <td>2</td>\n",
       "      <td>0</td>\n",
       "      <td>27.0</td>\n",
       "      <td>0</td>\n",
       "      <td>0</td>\n",
       "      <td>13.0000</td>\n",
       "      <td>0.0</td>\n",
       "    </tr>\n",
       "    <tr>\n",
       "      <th>887</th>\n",
       "      <td>1</td>\n",
       "      <td>1</td>\n",
       "      <td>1</td>\n",
       "      <td>19.0</td>\n",
       "      <td>0</td>\n",
       "      <td>0</td>\n",
       "      <td>30.0000</td>\n",
       "      <td>0.0</td>\n",
       "    </tr>\n",
       "    <tr>\n",
       "      <th>889</th>\n",
       "      <td>1</td>\n",
       "      <td>1</td>\n",
       "      <td>0</td>\n",
       "      <td>26.0</td>\n",
       "      <td>0</td>\n",
       "      <td>0</td>\n",
       "      <td>30.0000</td>\n",
       "      <td>1.0</td>\n",
       "    </tr>\n",
       "    <tr>\n",
       "      <th>890</th>\n",
       "      <td>0</td>\n",
       "      <td>3</td>\n",
       "      <td>0</td>\n",
       "      <td>32.0</td>\n",
       "      <td>0</td>\n",
       "      <td>0</td>\n",
       "      <td>7.7500</td>\n",
       "      <td>0.5</td>\n",
       "    </tr>\n",
       "  </tbody>\n",
       "</table>\n",
       "<p>712 rows × 8 columns</p>\n",
       "</div>"
      ],
      "text/plain": [
       "     Survived  Pclass  Sex   Age  SibSp  Parch     Fare  Embarked\n",
       "0           0       3    0  22.0      1      0   7.2500       0.0\n",
       "1           1       1    1  38.0      1      0  71.2833       1.0\n",
       "2           1       3    1  26.0      0      0   7.9250       0.0\n",
       "3           1       1    1  35.0      1      0  53.1000       0.0\n",
       "4           0       3    0  35.0      0      0   8.0500       0.0\n",
       "..        ...     ...  ...   ...    ...    ...      ...       ...\n",
       "885         0       3    1  39.0      0      5  29.1250       0.5\n",
       "886         0       2    0  27.0      0      0  13.0000       0.0\n",
       "887         1       1    1  19.0      0      0  30.0000       0.0\n",
       "889         1       1    0  26.0      0      0  30.0000       1.0\n",
       "890         0       3    0  32.0      0      0   7.7500       0.5\n",
       "\n",
       "[712 rows x 8 columns]"
      ]
     },
     "execution_count": 26,
     "metadata": {},
     "output_type": "execute_result"
    }
   ],
   "source": [
    "data_treino_4"
   ]
  },
  {
   "cell_type": "markdown",
   "id": "fd3a4480",
   "metadata": {},
   "source": [
    "## Verificando correlações"
   ]
  },
  {
   "cell_type": "code",
   "execution_count": 27,
   "id": "0021aae4",
   "metadata": {},
   "outputs": [
    {
     "data": {
      "text/plain": [
       "Text(0.5, 1.0, 'Embarked x Age')"
      ]
     },
     "execution_count": 27,
     "metadata": {},
     "output_type": "execute_result"
    },
    {
     "data": {
      "image/png": "[encoded data removed]",
      "text/plain": [
       "<Figure size 640x480 with 8 Axes>"
      ]
     },
     "metadata": {},
     "output_type": "display_data"
    }
   ],
   "source": [
    "fig = plt.figure()\n",
    "plt.subplot(3,3,1)\n",
    "plt.subplots_adjust(right=3,wspace=0.7,top=5,bottom=2)\n",
    "\n",
    "sns.violinplot(data= data_treino_3,\n",
    "           x= \"Pclass\",\n",
    "           y= 'Age',\n",
    "           hue= 'Survived',\n",
    "          split= True)\n",
    "plt.title('Pclass x Age')\n",
    "\n",
    "\n",
    "plt.subplot(3,3,2)\n",
    "sns.violinplot(data= data_treino_3,\n",
    "           x= 'Sex',\n",
    "            y= 'Age',\n",
    "           hue= 'Survived',\n",
    "          split= True)\n",
    "plt.title('Sex x Age')\n",
    "\n",
    "\n",
    "\n",
    "\n",
    "plt.subplot(3,3,3)\n",
    "sns.violinplot(data= data_treino_3,\n",
    "           x= 'Sex',\n",
    "            y= 'Fare',\n",
    "           hue= 'Survived',\n",
    "          split= True)\n",
    "plt.title('Sex x Fare')\n",
    "\n",
    "\n",
    "plt.subplot(3,3,4)\n",
    "sns.violinplot(data= data_treino_3,\n",
    "          x= 'Sex',\n",
    "         y= 'SibSp',\n",
    "           hue= 'Survived',\n",
    "          split= True)\n",
    "plt.title('Sex x SibSp')\n",
    "\n",
    "\n",
    "\n",
    "plt.subplot(3,3,5)\n",
    "sns.violinplot(data= data_treino_3,\n",
    "          x= 'Pclass',\n",
    "               y= 'Sex',\n",
    "           hue= 'Survived',\n",
    "          split= True)\n",
    "plt.title('Pclass x Sex')\n",
    "\n",
    "\n",
    "plt.subplot(3,3,6)\n",
    "sns.violinplot(data= data_treino_3,\n",
    "          x= 'Sex',\n",
    "               y= 'Parch',\n",
    "           hue= 'Survived',\n",
    "          split= True)\n",
    "plt.title('Sex x Parch')\n",
    "\n",
    "\n",
    "\n",
    "\n",
    "plt.subplot(3,3,7)\n",
    "sns.violinplot(data= data_treino_3,\n",
    "          x= 'Pclass',\n",
    "        y= 'Fare',\n",
    "           hue= 'Survived',\n",
    "          split= True)\n",
    "plt.title('Pclass x Fare')\n",
    "\n",
    "\n",
    "\n",
    "\n",
    "\n",
    "plt.subplot(3,3,8)\n",
    "sns.violinplot(data= data_treino_3,\n",
    "          x= 'Embarked',\n",
    "               y= 'Age',\n",
    "           hue= 'Survived',\n",
    "          split= True)\n",
    "plt.title('Embarked x Age')\n",
    "\n",
    "\n"
   ]
  },
  {
   "cell_type": "code",
   "execution_count": 28,
   "id": "9e63a292",
   "metadata": {},
   "outputs": [
    {
     "data": {
      "image/png": "[encoded data removed]",
      "text/plain": [
       "<Figure size 640x480 with 2 Axes>"
      ]
     },
     "metadata": {},
     "output_type": "display_data"
    }
   ],
   "source": [
    "matriz_corr = data_treino_4.corr()\n",
    "sns.heatmap(matriz_corr)\n",
    "plt.show()"
   ]
  },
  {
   "cell_type": "markdown",
   "id": "cae80ee0",
   "metadata": {},
   "source": [
    "#### Alta correlação entre o sexo do passageriro(a) e asobrevivencia. Requer atenção no treino do meodelo"
   ]
  },
  {
   "cell_type": "markdown",
   "id": "fce04d36",
   "metadata": {},
   "source": [
    "### Preparando os dados de validação"
   ]
  },
  {
   "cell_type": "code",
   "execution_count": 29,
   "id": "2bc53a34",
   "metadata": {},
   "outputs": [
    {
     "data": {
      "text/plain": [
       "PassengerId      0\n",
       "Pclass           0\n",
       "Name             0\n",
       "Sex              0\n",
       "Age             86\n",
       "SibSp            0\n",
       "Parch            0\n",
       "Ticket           0\n",
       "Fare             1\n",
       "Cabin          327\n",
       "Embarked         0\n",
       "dtype: int64"
      ]
     },
     "execution_count": 29,
     "metadata": {},
     "output_type": "execute_result"
    }
   ],
   "source": [
    "data_teste.isnull().sum()"
   ]
  },
  {
   "cell_type": "code",
   "execution_count": 30,
   "id": "bc4d2388",
   "metadata": {},
   "outputs": [
    {
     "data": {
      "text/plain": [
       "418"
      ]
     },
     "execution_count": 30,
     "metadata": {},
     "output_type": "execute_result"
    }
   ],
   "source": [
    "len(data_teste)"
   ]
  },
  {
   "cell_type": "code",
   "execution_count": 31,
   "id": "6e4b72d0",
   "metadata": {},
   "outputs": [
    {
     "data": {
      "text/plain": [
       "PassengerId    0\n",
       "Survived       0\n",
       "dtype: int64"
      ]
     },
     "execution_count": 31,
     "metadata": {},
     "output_type": "execute_result"
    }
   ],
   "source": [
    "data_resultados_teste.isnull().sum()"
   ]
  },
  {
   "cell_type": "code",
   "execution_count": 32,
   "id": "9e83137e",
   "metadata": {},
   "outputs": [],
   "source": [
    "data_teste_1 = pd.concat([data_teste,data_resultados_teste],axis=1)\n"
   ]
  },
  {
   "cell_type": "code",
   "execution_count": 33,
   "id": "0dd21c79",
   "metadata": {},
   "outputs": [
    {
     "data": {
      "text/html": [
       "<div>\n",
       "<style scoped>\n",
       "    .dataframe tbody tr th:only-of-type {\n",
       "        vertical-align: middle;\n",
       "    }\n",
       "\n",
       "    .dataframe tbody tr th {\n",
       "        vertical-align: top;\n",
       "    }\n",
       "\n",
       "    .dataframe thead th {\n",
       "        text-align: right;\n",
       "    }\n",
       "</style>\n",
       "<table border=\"1\" class=\"dataframe\">\n",
       "  <thead>\n",
       "    <tr style=\"text-align: right;\">\n",
       "      <th></th>\n",
       "      <th>PassengerId</th>\n",
       "      <th>Pclass</th>\n",
       "      <th>Name</th>\n",
       "      <th>Sex</th>\n",
       "      <th>Age</th>\n",
       "      <th>SibSp</th>\n",
       "      <th>Parch</th>\n",
       "      <th>Ticket</th>\n",
       "      <th>Fare</th>\n",
       "      <th>Cabin</th>\n",
       "      <th>Embarked</th>\n",
       "      <th>PassengerId</th>\n",
       "      <th>Survived</th>\n",
       "    </tr>\n",
       "  </thead>\n",
       "  <tbody>\n",
       "    <tr>\n",
       "      <th>0</th>\n",
       "      <td>892</td>\n",
       "      <td>3</td>\n",
       "      <td>Kelly, Mr. James</td>\n",
       "      <td>male</td>\n",
       "      <td>34.5</td>\n",
       "      <td>0</td>\n",
       "      <td>0</td>\n",
       "      <td>330911</td>\n",
       "      <td>7.8292</td>\n",
       "      <td>NaN</td>\n",
       "      <td>Q</td>\n",
       "      <td>892</td>\n",
       "      <td>0</td>\n",
       "    </tr>\n",
       "    <tr>\n",
       "      <th>1</th>\n",
       "      <td>893</td>\n",
       "      <td>3</td>\n",
       "      <td>Wilkes, Mrs. James (Ellen Needs)</td>\n",
       "      <td>female</td>\n",
       "      <td>47.0</td>\n",
       "      <td>1</td>\n",
       "      <td>0</td>\n",
       "      <td>363272</td>\n",
       "      <td>7.0000</td>\n",
       "      <td>NaN</td>\n",
       "      <td>S</td>\n",
       "      <td>893</td>\n",
       "      <td>1</td>\n",
       "    </tr>\n",
       "    <tr>\n",
       "      <th>2</th>\n",
       "      <td>894</td>\n",
       "      <td>2</td>\n",
       "      <td>Myles, Mr. Thomas Francis</td>\n",
       "      <td>male</td>\n",
       "      <td>62.0</td>\n",
       "      <td>0</td>\n",
       "      <td>0</td>\n",
       "      <td>240276</td>\n",
       "      <td>9.6875</td>\n",
       "      <td>NaN</td>\n",
       "      <td>Q</td>\n",
       "      <td>894</td>\n",
       "      <td>0</td>\n",
       "    </tr>\n",
       "    <tr>\n",
       "      <th>3</th>\n",
       "      <td>895</td>\n",
       "      <td>3</td>\n",
       "      <td>Wirz, Mr. Albert</td>\n",
       "      <td>male</td>\n",
       "      <td>27.0</td>\n",
       "      <td>0</td>\n",
       "      <td>0</td>\n",
       "      <td>315154</td>\n",
       "      <td>8.6625</td>\n",
       "      <td>NaN</td>\n",
       "      <td>S</td>\n",
       "      <td>895</td>\n",
       "      <td>0</td>\n",
       "    </tr>\n",
       "    <tr>\n",
       "      <th>4</th>\n",
       "      <td>896</td>\n",
       "      <td>3</td>\n",
       "      <td>Hirvonen, Mrs. Alexander (Helga E Lindqvist)</td>\n",
       "      <td>female</td>\n",
       "      <td>22.0</td>\n",
       "      <td>1</td>\n",
       "      <td>1</td>\n",
       "      <td>3101298</td>\n",
       "      <td>12.2875</td>\n",
       "      <td>NaN</td>\n",
       "      <td>S</td>\n",
       "      <td>896</td>\n",
       "      <td>1</td>\n",
       "    </tr>\n",
       "  </tbody>\n",
       "</table>\n",
       "</div>"
      ],
      "text/plain": [
       "   PassengerId  Pclass                                          Name     Sex  \\\n",
       "0          892       3                              Kelly, Mr. James    male   \n",
       "1          893       3              Wilkes, Mrs. James (Ellen Needs)  female   \n",
       "2          894       2                     Myles, Mr. Thomas Francis    male   \n",
       "3          895       3                              Wirz, Mr. Albert    male   \n",
       "4          896       3  Hirvonen, Mrs. Alexander (Helga E Lindqvist)  female   \n",
       "\n",
       "    Age  SibSp  Parch   Ticket     Fare Cabin Embarked  PassengerId  Survived  \n",
       "0  34.5      0      0   330911   7.8292   NaN        Q          892         0  \n",
       "1  47.0      1      0   363272   7.0000   NaN        S          893         1  \n",
       "2  62.0      0      0   240276   9.6875   NaN        Q          894         0  \n",
       "3  27.0      0      0   315154   8.6625   NaN        S          895         0  \n",
       "4  22.0      1      1  3101298  12.2875   NaN        S          896         1  "
      ]
     },
     "execution_count": 33,
     "metadata": {},
     "output_type": "execute_result"
    }
   ],
   "source": [
    "data_teste_1.head()"
   ]
  },
  {
   "cell_type": "code",
   "execution_count": 34,
   "id": "a21aaf5b",
   "metadata": {
    "scrolled": true
   },
   "outputs": [
    {
     "data": {
      "text/html": [
       "<div>\n",
       "<style scoped>\n",
       "    .dataframe tbody tr th:only-of-type {\n",
       "        vertical-align: middle;\n",
       "    }\n",
       "\n",
       "    .dataframe tbody tr th {\n",
       "        vertical-align: top;\n",
       "    }\n",
       "\n",
       "    .dataframe thead th {\n",
       "        text-align: right;\n",
       "    }\n",
       "</style>\n",
       "<table border=\"1\" class=\"dataframe\">\n",
       "  <thead>\n",
       "    <tr style=\"text-align: right;\">\n",
       "      <th></th>\n",
       "      <th>Survived</th>\n",
       "      <th>Pclass</th>\n",
       "      <th>Sex</th>\n",
       "      <th>Age</th>\n",
       "      <th>SibSp</th>\n",
       "      <th>Parch</th>\n",
       "      <th>Fare</th>\n",
       "      <th>Embarked</th>\n",
       "    </tr>\n",
       "  </thead>\n",
       "  <tbody>\n",
       "    <tr>\n",
       "      <th>0</th>\n",
       "      <td>0</td>\n",
       "      <td>3</td>\n",
       "      <td>male</td>\n",
       "      <td>34.5</td>\n",
       "      <td>0</td>\n",
       "      <td>0</td>\n",
       "      <td>7.8292</td>\n",
       "      <td>Q</td>\n",
       "    </tr>\n",
       "    <tr>\n",
       "      <th>1</th>\n",
       "      <td>1</td>\n",
       "      <td>3</td>\n",
       "      <td>female</td>\n",
       "      <td>47.0</td>\n",
       "      <td>1</td>\n",
       "      <td>0</td>\n",
       "      <td>7.0000</td>\n",
       "      <td>S</td>\n",
       "    </tr>\n",
       "    <tr>\n",
       "      <th>2</th>\n",
       "      <td>0</td>\n",
       "      <td>2</td>\n",
       "      <td>male</td>\n",
       "      <td>62.0</td>\n",
       "      <td>0</td>\n",
       "      <td>0</td>\n",
       "      <td>9.6875</td>\n",
       "      <td>Q</td>\n",
       "    </tr>\n",
       "    <tr>\n",
       "      <th>3</th>\n",
       "      <td>0</td>\n",
       "      <td>3</td>\n",
       "      <td>male</td>\n",
       "      <td>27.0</td>\n",
       "      <td>0</td>\n",
       "      <td>0</td>\n",
       "      <td>8.6625</td>\n",
       "      <td>S</td>\n",
       "    </tr>\n",
       "    <tr>\n",
       "      <th>4</th>\n",
       "      <td>1</td>\n",
       "      <td>3</td>\n",
       "      <td>female</td>\n",
       "      <td>22.0</td>\n",
       "      <td>1</td>\n",
       "      <td>1</td>\n",
       "      <td>12.2875</td>\n",
       "      <td>S</td>\n",
       "    </tr>\n",
       "  </tbody>\n",
       "</table>\n",
       "</div>"
      ],
      "text/plain": [
       "   Survived  Pclass     Sex   Age  SibSp  Parch     Fare Embarked\n",
       "0         0       3    male  34.5      0      0   7.8292        Q\n",
       "1         1       3  female  47.0      1      0   7.0000        S\n",
       "2         0       2    male  62.0      0      0   9.6875        Q\n",
       "3         0       3    male  27.0      0      0   8.6625        S\n",
       "4         1       3  female  22.0      1      1  12.2875        S"
      ]
     },
     "execution_count": 34,
     "metadata": {},
     "output_type": "execute_result"
    }
   ],
   "source": [
    "data_teste_2 = data_teste_1[['Survived','Pclass','Sex','Age','SibSp','Parch','Fare','Embarked']]\n",
    "data_teste_2.head()"
   ]
  },
  {
   "cell_type": "code",
   "execution_count": 35,
   "id": "a27e6b98",
   "metadata": {
    "scrolled": true
   },
   "outputs": [
    {
     "data": {
      "text/plain": [
       "Survived     0\n",
       "Pclass       0\n",
       "Sex          0\n",
       "Age         86\n",
       "SibSp        0\n",
       "Parch        0\n",
       "Fare         1\n",
       "Embarked     0\n",
       "dtype: int64"
      ]
     },
     "execution_count": 35,
     "metadata": {},
     "output_type": "execute_result"
    }
   ],
   "source": [
    "data_teste_2.isnull().sum()"
   ]
  },
  {
   "cell_type": "code",
   "execution_count": 36,
   "id": "c49929d0",
   "metadata": {},
   "outputs": [
    {
     "name": "stderr",
     "output_type": "stream",
     "text": [
      "C:\\Users\\guilh\\AppData\\Local\\Temp\\ipykernel_23336\\2550956188.py:1: SettingWithCopyWarning: \n",
      "A value is trying to be set on a copy of a slice from a DataFrame\n",
      "\n",
      "See the caveats in the documentation: https://pandas.pydata.org/pandas-docs/stable/user_guide/indexing.html#returning-a-view-versus-a-copy\n",
      "  data_teste_2.dropna(inplace=True)\n"
     ]
    }
   ],
   "source": [
    "data_teste_2.dropna(inplace=True)"
   ]
  },
  {
   "cell_type": "code",
   "execution_count": 37,
   "id": "e501a2bb",
   "metadata": {},
   "outputs": [
    {
     "data": {
      "text/plain": [
       "Survived    0\n",
       "Pclass      0\n",
       "Sex         0\n",
       "Age         0\n",
       "SibSp       0\n",
       "Parch       0\n",
       "Fare        0\n",
       "Embarked    0\n",
       "dtype: int64"
      ]
     },
     "execution_count": 37,
     "metadata": {},
     "output_type": "execute_result"
    }
   ],
   "source": [
    "data_teste_2.isnull().sum()"
   ]
  },
  {
   "cell_type": "code",
   "execution_count": 38,
   "id": "990dad88",
   "metadata": {},
   "outputs": [],
   "source": [
    "data_validation = data_teste_2.replace({\"Sex\":{'male':0,'female':1},\n",
    "                                       \"Embarked\":{'S':0,'Q':0.5,'C':1}})"
   ]
  },
  {
   "cell_type": "code",
   "execution_count": 39,
   "id": "b9a22a51",
   "metadata": {},
   "outputs": [
    {
     "data": {
      "text/html": [
       "<div>\n",
       "<style scoped>\n",
       "    .dataframe tbody tr th:only-of-type {\n",
       "        vertical-align: middle;\n",
       "    }\n",
       "\n",
       "    .dataframe tbody tr th {\n",
       "        vertical-align: top;\n",
       "    }\n",
       "\n",
       "    .dataframe thead th {\n",
       "        text-align: right;\n",
       "    }\n",
       "</style>\n",
       "<table border=\"1\" class=\"dataframe\">\n",
       "  <thead>\n",
       "    <tr style=\"text-align: right;\">\n",
       "      <th></th>\n",
       "      <th>Survived</th>\n",
       "      <th>Pclass</th>\n",
       "      <th>Sex</th>\n",
       "      <th>Age</th>\n",
       "      <th>SibSp</th>\n",
       "      <th>Parch</th>\n",
       "      <th>Fare</th>\n",
       "      <th>Embarked</th>\n",
       "    </tr>\n",
       "  </thead>\n",
       "  <tbody>\n",
       "    <tr>\n",
       "      <th>0</th>\n",
       "      <td>0</td>\n",
       "      <td>3</td>\n",
       "      <td>0</td>\n",
       "      <td>34.5</td>\n",
       "      <td>0</td>\n",
       "      <td>0</td>\n",
       "      <td>7.8292</td>\n",
       "      <td>0.5</td>\n",
       "    </tr>\n",
       "    <tr>\n",
       "      <th>1</th>\n",
       "      <td>1</td>\n",
       "      <td>3</td>\n",
       "      <td>1</td>\n",
       "      <td>47.0</td>\n",
       "      <td>1</td>\n",
       "      <td>0</td>\n",
       "      <td>7.0000</td>\n",
       "      <td>0.0</td>\n",
       "    </tr>\n",
       "    <tr>\n",
       "      <th>2</th>\n",
       "      <td>0</td>\n",
       "      <td>2</td>\n",
       "      <td>0</td>\n",
       "      <td>62.0</td>\n",
       "      <td>0</td>\n",
       "      <td>0</td>\n",
       "      <td>9.6875</td>\n",
       "      <td>0.5</td>\n",
       "    </tr>\n",
       "    <tr>\n",
       "      <th>3</th>\n",
       "      <td>0</td>\n",
       "      <td>3</td>\n",
       "      <td>0</td>\n",
       "      <td>27.0</td>\n",
       "      <td>0</td>\n",
       "      <td>0</td>\n",
       "      <td>8.6625</td>\n",
       "      <td>0.0</td>\n",
       "    </tr>\n",
       "    <tr>\n",
       "      <th>4</th>\n",
       "      <td>1</td>\n",
       "      <td>3</td>\n",
       "      <td>1</td>\n",
       "      <td>22.0</td>\n",
       "      <td>1</td>\n",
       "      <td>1</td>\n",
       "      <td>12.2875</td>\n",
       "      <td>0.0</td>\n",
       "    </tr>\n",
       "    <tr>\n",
       "      <th>...</th>\n",
       "      <td>...</td>\n",
       "      <td>...</td>\n",
       "      <td>...</td>\n",
       "      <td>...</td>\n",
       "      <td>...</td>\n",
       "      <td>...</td>\n",
       "      <td>...</td>\n",
       "      <td>...</td>\n",
       "    </tr>\n",
       "    <tr>\n",
       "      <th>409</th>\n",
       "      <td>1</td>\n",
       "      <td>3</td>\n",
       "      <td>1</td>\n",
       "      <td>3.0</td>\n",
       "      <td>1</td>\n",
       "      <td>1</td>\n",
       "      <td>13.7750</td>\n",
       "      <td>0.0</td>\n",
       "    </tr>\n",
       "    <tr>\n",
       "      <th>411</th>\n",
       "      <td>1</td>\n",
       "      <td>1</td>\n",
       "      <td>1</td>\n",
       "      <td>37.0</td>\n",
       "      <td>1</td>\n",
       "      <td>0</td>\n",
       "      <td>90.0000</td>\n",
       "      <td>0.5</td>\n",
       "    </tr>\n",
       "    <tr>\n",
       "      <th>412</th>\n",
       "      <td>1</td>\n",
       "      <td>3</td>\n",
       "      <td>1</td>\n",
       "      <td>28.0</td>\n",
       "      <td>0</td>\n",
       "      <td>0</td>\n",
       "      <td>7.7750</td>\n",
       "      <td>0.0</td>\n",
       "    </tr>\n",
       "    <tr>\n",
       "      <th>414</th>\n",
       "      <td>1</td>\n",
       "      <td>1</td>\n",
       "      <td>1</td>\n",
       "      <td>39.0</td>\n",
       "      <td>0</td>\n",
       "      <td>0</td>\n",
       "      <td>108.9000</td>\n",
       "      <td>1.0</td>\n",
       "    </tr>\n",
       "    <tr>\n",
       "      <th>415</th>\n",
       "      <td>0</td>\n",
       "      <td>3</td>\n",
       "      <td>0</td>\n",
       "      <td>38.5</td>\n",
       "      <td>0</td>\n",
       "      <td>0</td>\n",
       "      <td>7.2500</td>\n",
       "      <td>0.0</td>\n",
       "    </tr>\n",
       "  </tbody>\n",
       "</table>\n",
       "<p>331 rows × 8 columns</p>\n",
       "</div>"
      ],
      "text/plain": [
       "     Survived  Pclass  Sex   Age  SibSp  Parch      Fare  Embarked\n",
       "0           0       3    0  34.5      0      0    7.8292       0.5\n",
       "1           1       3    1  47.0      1      0    7.0000       0.0\n",
       "2           0       2    0  62.0      0      0    9.6875       0.5\n",
       "3           0       3    0  27.0      0      0    8.6625       0.0\n",
       "4           1       3    1  22.0      1      1   12.2875       0.0\n",
       "..        ...     ...  ...   ...    ...    ...       ...       ...\n",
       "409         1       3    1   3.0      1      1   13.7750       0.0\n",
       "411         1       1    1  37.0      1      0   90.0000       0.5\n",
       "412         1       3    1  28.0      0      0    7.7750       0.0\n",
       "414         1       1    1  39.0      0      0  108.9000       1.0\n",
       "415         0       3    0  38.5      0      0    7.2500       0.0\n",
       "\n",
       "[331 rows x 8 columns]"
      ]
     },
     "execution_count": 39,
     "metadata": {},
     "output_type": "execute_result"
    }
   ],
   "source": [
    "data_validation"
   ]
  },
  {
   "cell_type": "markdown",
   "id": "b3b5890d",
   "metadata": {},
   "source": [
    "## Escolhendo um modelo"
   ]
  },
  {
   "cell_type": "code",
   "execution_count": 40,
   "id": "470961c2",
   "metadata": {},
   "outputs": [],
   "source": [
    "\n",
    "from sklearn.model_selection import train_test_split\n",
    "from sklearn.preprocessing import StandardScaler\n",
    "from sklearn.neural_network import MLPClassifier\n",
    "from sklearn.neighbors import KNeighborsClassifier\n",
    "from sklearn.svm import SVC\n",
    "from sklearn.gaussian_process import GaussianProcessClassifier\n",
    "from sklearn.gaussian_process.kernels import RBF\n",
    "from sklearn.tree import DecisionTreeClassifier\n",
    "from sklearn.ensemble import RandomForestClassifier, AdaBoostClassifier\n",
    "from sklearn.naive_bayes import GaussianNB\n",
    "from sklearn.discriminant_analysis import QuadraticDiscriminantAnalysis\n",
    "from sklearn.inspection import DecisionBoundaryDisplay"
   ]
  },
  {
   "cell_type": "code",
   "execution_count": 41,
   "id": "32b5490b",
   "metadata": {},
   "outputs": [],
   "source": [
    "from sklearn.dummy import DummyClassifier"
   ]
  },
  {
   "cell_type": "code",
   "execution_count": 42,
   "id": "59dae92d",
   "metadata": {},
   "outputs": [],
   "source": [
    "from sklearn.model_selection import cross_validate, StratifiedKFold\n",
    "from sklearn.pipeline import Pipeline"
   ]
  },
  {
   "cell_type": "code",
   "execution_count": 43,
   "id": "80230ab9",
   "metadata": {},
   "outputs": [],
   "source": [
    "\n",
    "classificadores = {\n",
    "    \"Nearest Neighbors\": KNeighborsClassifier(3),\n",
    "    \"Linear SVM\": Pipeline([('scaler',StandardScaler()),('modelo',SVC(kernel=\"linear\", C=0.025))]),\n",
    "    \n",
    "    \"RBF SVM\": Pipeline([('scaler',StandardScaler()),('modelo',SVC(gamma=2, C=1))]),\n",
    "    \n",
    "    \"Gaussian Process\" :GaussianProcessClassifier(1.0 * RBF(1.0)),\n",
    "    \"Decision Tree\": DecisionTreeClassifier(max_depth=5,random_state=123),\n",
    "    \"Random Forest\": RandomForestClassifier(n_estimators=10, max_features=1,random_state=123),\n",
    "    \"Neural Net\": MLPClassifier(alpha=1, max_iter=1000),\n",
    "    \"AdaBoost\": AdaBoostClassifier(),\n",
    "    \"Naive Bayes\": GaussianNB(),\n",
    "    \"QDA\": QuadraticDiscriminantAnalysis(),\n",
    "    'Dummy': DummyClassifier(strategy='most_frequent',random_state=123)\n",
    "}\n"
   ]
  },
  {
   "cell_type": "code",
   "execution_count": 44,
   "id": "744db976",
   "metadata": {},
   "outputs": [
    {
     "data": {
      "text/html": [
       "<style>#sk-container-id-1 {color: black;background-color: white;}#sk-container-id-1 pre{padding: 0;}#sk-container-id-1 div.sk-toggleable {background-color: white;}#sk-container-id-1 label.sk-toggleable__label {cursor: pointer;display: block;width: 100%;margin-bottom: 0;padding: 0.3em;box-sizing: border-box;text-align: center;}#sk-container-id-1 label.sk-toggleable__label-arrow:before {content: \"▸\";float: left;margin-right: 0.25em;color: #696969;}#sk-container-id-1 label.sk-toggleable__label-arrow:hover:before {color: black;}#sk-container-id-1 div.sk-estimator:hover label.sk-toggleable__label-arrow:before {color: black;}#sk-container-id-1 div.sk-toggleable__content {max-height: 0;max-width: 0;overflow: hidden;text-align: left;background-color: #f0f8ff;}#sk-container-id-1 div.sk-toggleable__content pre {margin: 0.2em;color: black;border-radius: 0.25em;background-color: #f0f8ff;}#sk-container-id-1 input.sk-toggleable__control:checked~div.sk-toggleable__content {max-height: 200px;max-width: 100%;overflow: auto;}#sk-container-id-1 input.sk-toggleable__control:checked~label.sk-toggleable__label-arrow:before {content: \"▾\";}#sk-container-id-1 div.sk-estimator input.sk-toggleable__control:checked~label.sk-toggleable__label {background-color: #d4ebff;}#sk-container-id-1 div.sk-label input.sk-toggleable__control:checked~label.sk-toggleable__label {background-color: #d4ebff;}#sk-container-id-1 input.sk-hidden--visually {border: 0;clip: rect(1px 1px 1px 1px);clip: rect(1px, 1px, 1px, 1px);height: 1px;margin: -1px;overflow: hidden;padding: 0;position: absolute;width: 1px;}#sk-container-id-1 div.sk-estimator {font-family: monospace;background-color: #f0f8ff;border: 1px dotted black;border-radius: 0.25em;box-sizing: border-box;margin-bottom: 0.5em;}#sk-container-id-1 div.sk-estimator:hover {background-color: #d4ebff;}#sk-container-id-1 div.sk-parallel-item::after {content: \"\";width: 100%;border-bottom: 1px solid gray;flex-grow: 1;}#sk-container-id-1 div.sk-label:hover label.sk-toggleable__label {background-color: #d4ebff;}#sk-container-id-1 div.sk-serial::before {content: \"\";position: absolute;border-left: 1px solid gray;box-sizing: border-box;top: 0;bottom: 0;left: 50%;z-index: 0;}#sk-container-id-1 div.sk-serial {display: flex;flex-direction: column;align-items: center;background-color: white;padding-right: 0.2em;padding-left: 0.2em;position: relative;}#sk-container-id-1 div.sk-item {position: relative;z-index: 1;}#sk-container-id-1 div.sk-parallel {display: flex;align-items: stretch;justify-content: center;background-color: white;position: relative;}#sk-container-id-1 div.sk-item::before, #sk-container-id-1 div.sk-parallel-item::before {content: \"\";position: absolute;border-left: 1px solid gray;box-sizing: border-box;top: 0;bottom: 0;left: 50%;z-index: -1;}#sk-container-id-1 div.sk-parallel-item {display: flex;flex-direction: column;z-index: 1;position: relative;background-color: white;}#sk-container-id-1 div.sk-parallel-item:first-child::after {align-self: flex-end;width: 50%;}#sk-container-id-1 div.sk-parallel-item:last-child::after {align-self: flex-start;width: 50%;}#sk-container-id-1 div.sk-parallel-item:only-child::after {width: 0;}#sk-container-id-1 div.sk-dashed-wrapped {border: 1px dashed gray;margin: 0 0.4em 0.5em 0.4em;box-sizing: border-box;padding-bottom: 0.4em;background-color: white;}#sk-container-id-1 div.sk-label label {font-family: monospace;font-weight: bold;display: inline-block;line-height: 1.2em;}#sk-container-id-1 div.sk-label-container {text-align: center;}#sk-container-id-1 div.sk-container {/* jupyter's `normalize.less` sets `[hidden] { display: none; }` but bootstrap.min.css set `[hidden] { display: none !important; }` so we also need the `!important` here to be able to override the default hidden behavior on the sphinx rendered scikit-learn.org. See: https://github.com/scikit-learn/scikit-learn/issues/21755 */display: inline-block !important;position: relative;}#sk-container-id-1 div.sk-text-repr-fallback {display: none;}</style><div id=\"sk-container-id-1\" class=\"sk-top-container\"><div class=\"sk-text-repr-fallback\"><pre>RandomForestClassifier(max_features=1, n_estimators=10, random_state=123)</pre><b>In a Jupyter environment, please rerun this cell to show the HTML representation or trust the notebook. <br />On GitHub, the HTML representation is unable to render, please try loading this page with nbviewer.org.</b></div><div class=\"sk-container\" hidden><div class=\"sk-item\"><div class=\"sk-estimator sk-toggleable\"><input class=\"sk-toggleable__control sk-hidden--visually\" id=\"sk-estimator-id-1\" type=\"checkbox\" checked><label for=\"sk-estimator-id-1\" class=\"sk-toggleable__label sk-toggleable__label-arrow\">RandomForestClassifier</label><div class=\"sk-toggleable__content\"><pre>RandomForestClassifier(max_features=1, n_estimators=10, random_state=123)</pre></div></div></div></div></div>"
      ],
      "text/plain": [
       "RandomForestClassifier(max_features=1, n_estimators=10, random_state=123)"
      ]
     },
     "execution_count": 44,
     "metadata": {},
     "output_type": "execute_result"
    }
   ],
   "source": [
    "classificadores['Random Forest']"
   ]
  },
  {
   "cell_type": "markdown",
   "id": "d3faffe1",
   "metadata": {},
   "source": [
    "#  Testando"
   ]
  },
  {
   "cell_type": "code",
   "execution_count": 45,
   "id": "4eaac0bb",
   "metadata": {},
   "outputs": [],
   "source": [
    "import numpy as np"
   ]
  },
  {
   "cell_type": "code",
   "execution_count": 46,
   "id": "0fadd6a0",
   "metadata": {},
   "outputs": [],
   "source": [
    "def teste_modelos(modelo):\n",
    "    n = 3\n",
    "    cv = StratifiedKFold(n,shuffle=True,random_state=123)\n",
    "    resultados = cross_validate(modelo,\n",
    "                                X= data_treino_4[['Pclass','Sex','Age','SibSp','Parch','Fare','Embarked']],\n",
    "                                y = data_treino_4['Survived'],\n",
    "                                cv = cv,\n",
    "                               return_estimator=True)\n",
    "    media = resultados['test_score'].mean()\n",
    "    desvio = resultados['test_score'].std()\n",
    "    \n",
    "    \n",
    "  \n",
    "    r = np.sort(np.array(resultados['test_score']))\n",
    "    \n",
    "    \n",
    "    intervalo = (media-desvio,media+desvio)\n",
    "    return media,intervalo,resultados['estimator'][2]"
   ]
  },
  {
   "cell_type": "code",
   "execution_count": 47,
   "id": "b4390f2a",
   "metadata": {},
   "outputs": [
    {
     "name": "stderr",
     "output_type": "stream",
     "text": [
      "C:\\Users\\guilh\\OneDrive\\Documentos\\GitHub\\Titanic\\venv\\lib\\site-packages\\sklearn\\gaussian_process\\kernels.py:430: ConvergenceWarning: The optimal value found for dimension 0 of parameter k1__constant_value is close to the specified upper bound 100000.0. Increasing the bound and calling fit again may find a better value.\n",
      "  warnings.warn(\n"
     ]
    }
   ],
   "source": [
    "resultados = []\n",
    "for key,value in classificadores.items():\n",
    "    r = teste_modelos(value)\n",
    "    resultados.append([key,r[0],r[1][0],r[1][1],r[2]])\n"
   ]
  },
  {
   "cell_type": "code",
   "execution_count": 48,
   "id": "8f2bc238",
   "metadata": {},
   "outputs": [],
   "source": [
    "data_results = pd.DataFrame(resultados,columns=['Modelo','média','Intervalo_inferior','Intervalo_superior','instancia'])"
   ]
  },
  {
   "cell_type": "code",
   "execution_count": 49,
   "id": "2340d8ad",
   "metadata": {},
   "outputs": [
    {
     "data": {
      "text/html": [
       "<div>\n",
       "<style scoped>\n",
       "    .dataframe tbody tr th:only-of-type {\n",
       "        vertical-align: middle;\n",
       "    }\n",
       "\n",
       "    .dataframe tbody tr th {\n",
       "        vertical-align: top;\n",
       "    }\n",
       "\n",
       "    .dataframe thead th {\n",
       "        text-align: right;\n",
       "    }\n",
       "</style>\n",
       "<table border=\"1\" class=\"dataframe\">\n",
       "  <thead>\n",
       "    <tr style=\"text-align: right;\">\n",
       "      <th></th>\n",
       "      <th>Modelo</th>\n",
       "      <th>média</th>\n",
       "      <th>Intervalo_inferior</th>\n",
       "      <th>Intervalo_superior</th>\n",
       "      <th>instancia</th>\n",
       "    </tr>\n",
       "  </thead>\n",
       "  <tbody>\n",
       "    <tr>\n",
       "      <th>0</th>\n",
       "      <td>Nearest Neighbors</td>\n",
       "      <td>0.696663</td>\n",
       "      <td>0.674585</td>\n",
       "      <td>0.718742</td>\n",
       "      <td>KNeighborsClassifier(n_neighbors=3)</td>\n",
       "    </tr>\n",
       "    <tr>\n",
       "      <th>1</th>\n",
       "      <td>Linear SVM</td>\n",
       "      <td>0.779509</td>\n",
       "      <td>0.769327</td>\n",
       "      <td>0.789691</td>\n",
       "      <td>(StandardScaler(), SVC(C=0.025, kernel='linear'))</td>\n",
       "    </tr>\n",
       "    <tr>\n",
       "      <th>2</th>\n",
       "      <td>RBF SVM</td>\n",
       "      <td>0.772483</td>\n",
       "      <td>0.763667</td>\n",
       "      <td>0.781299</td>\n",
       "      <td>(StandardScaler(), SVC(C=1, gamma=2))</td>\n",
       "    </tr>\n",
       "    <tr>\n",
       "      <th>3</th>\n",
       "      <td>Gaussian Process</td>\n",
       "      <td>0.779592</td>\n",
       "      <td>0.728547</td>\n",
       "      <td>0.830637</td>\n",
       "      <td>GaussianProcessClassifier(kernel=1**2 * RBF(le...</td>\n",
       "    </tr>\n",
       "    <tr>\n",
       "      <th>4</th>\n",
       "      <td>Decision Tree</td>\n",
       "      <td>0.810381</td>\n",
       "      <td>0.801027</td>\n",
       "      <td>0.819735</td>\n",
       "      <td>DecisionTreeClassifier(max_depth=5, random_sta...</td>\n",
       "    </tr>\n",
       "    <tr>\n",
       "      <th>5</th>\n",
       "      <td>Random Forest</td>\n",
       "      <td>0.790743</td>\n",
       "      <td>0.773922</td>\n",
       "      <td>0.807564</td>\n",
       "      <td>(DecisionTreeClassifier(max_features=1, random...</td>\n",
       "    </tr>\n",
       "    <tr>\n",
       "      <th>6</th>\n",
       "      <td>Neural Net</td>\n",
       "      <td>0.794980</td>\n",
       "      <td>0.770892</td>\n",
       "      <td>0.819069</td>\n",
       "      <td>MLPClassifier(alpha=1, max_iter=1000)</td>\n",
       "    </tr>\n",
       "    <tr>\n",
       "      <th>7</th>\n",
       "      <td>AdaBoost</td>\n",
       "      <td>0.773901</td>\n",
       "      <td>0.754021</td>\n",
       "      <td>0.793781</td>\n",
       "      <td>(DecisionTreeClassifier(max_depth=1, random_st...</td>\n",
       "    </tr>\n",
       "    <tr>\n",
       "      <th>8</th>\n",
       "      <td>Naive Bayes</td>\n",
       "      <td>0.775296</td>\n",
       "      <td>0.759612</td>\n",
       "      <td>0.790979</td>\n",
       "      <td>GaussianNB()</td>\n",
       "    </tr>\n",
       "    <tr>\n",
       "      <th>9</th>\n",
       "      <td>QDA</td>\n",
       "      <td>0.800571</td>\n",
       "      <td>0.787678</td>\n",
       "      <td>0.813463</td>\n",
       "      <td>QuadraticDiscriminantAnalysis()</td>\n",
       "    </tr>\n",
       "    <tr>\n",
       "      <th>10</th>\n",
       "      <td>Dummy</td>\n",
       "      <td>0.595504</td>\n",
       "      <td>0.594702</td>\n",
       "      <td>0.596306</td>\n",
       "      <td>DummyClassifier(random_state=123, strategy='mo...</td>\n",
       "    </tr>\n",
       "  </tbody>\n",
       "</table>\n",
       "</div>"
      ],
      "text/plain": [
       "               Modelo     média  Intervalo_inferior  Intervalo_superior  \\\n",
       "0   Nearest Neighbors  0.696663            0.674585            0.718742   \n",
       "1          Linear SVM  0.779509            0.769327            0.789691   \n",
       "2             RBF SVM  0.772483            0.763667            0.781299   \n",
       "3    Gaussian Process  0.779592            0.728547            0.830637   \n",
       "4       Decision Tree  0.810381            0.801027            0.819735   \n",
       "5       Random Forest  0.790743            0.773922            0.807564   \n",
       "6          Neural Net  0.794980            0.770892            0.819069   \n",
       "7            AdaBoost  0.773901            0.754021            0.793781   \n",
       "8         Naive Bayes  0.775296            0.759612            0.790979   \n",
       "9                 QDA  0.800571            0.787678            0.813463   \n",
       "10              Dummy  0.595504            0.594702            0.596306   \n",
       "\n",
       "                                            instancia  \n",
       "0                 KNeighborsClassifier(n_neighbors=3)  \n",
       "1   (StandardScaler(), SVC(C=0.025, kernel='linear'))  \n",
       "2               (StandardScaler(), SVC(C=1, gamma=2))  \n",
       "3   GaussianProcessClassifier(kernel=1**2 * RBF(le...  \n",
       "4   DecisionTreeClassifier(max_depth=5, random_sta...  \n",
       "5   (DecisionTreeClassifier(max_features=1, random...  \n",
       "6               MLPClassifier(alpha=1, max_iter=1000)  \n",
       "7   (DecisionTreeClassifier(max_depth=1, random_st...  \n",
       "8                                        GaussianNB()  \n",
       "9                     QuadraticDiscriminantAnalysis()  \n",
       "10  DummyClassifier(random_state=123, strategy='mo...  "
      ]
     },
     "execution_count": 49,
     "metadata": {},
     "output_type": "execute_result"
    }
   ],
   "source": [
    "data_results"
   ]
  },
  {
   "cell_type": "code",
   "execution_count": 50,
   "id": "22effef4",
   "metadata": {},
   "outputs": [],
   "source": [
    "def validate(modelo):\n",
    "    return modelo.score(data_validation[['Pclass','Sex','Age','SibSp','Parch','Fare','Embarked']],data_validation['Survived'])\n"
   ]
  },
  {
   "cell_type": "code",
   "execution_count": 51,
   "id": "7d36baab",
   "metadata": {},
   "outputs": [],
   "source": [
    "resultados_validate = []\n",
    "for i in data_results['instancia']:\n",
    "    r = validate(i)\n",
    "    resultados_validate.append(r)\n"
   ]
  },
  {
   "cell_type": "code",
   "execution_count": 52,
   "id": "191df800",
   "metadata": {},
   "outputs": [],
   "source": [
    "data_results['validacao'] = resultados_validate"
   ]
  },
  {
   "cell_type": "code",
   "execution_count": 53,
   "id": "d7c47d60",
   "metadata": {},
   "outputs": [
    {
     "data": {
      "text/html": [
       "<div>\n",
       "<style scoped>\n",
       "    .dataframe tbody tr th:only-of-type {\n",
       "        vertical-align: middle;\n",
       "    }\n",
       "\n",
       "    .dataframe tbody tr th {\n",
       "        vertical-align: top;\n",
       "    }\n",
       "\n",
       "    .dataframe thead th {\n",
       "        text-align: right;\n",
       "    }\n",
       "</style>\n",
       "<table border=\"1\" class=\"dataframe\">\n",
       "  <thead>\n",
       "    <tr style=\"text-align: right;\">\n",
       "      <th></th>\n",
       "      <th>Modelo</th>\n",
       "      <th>média</th>\n",
       "      <th>Intervalo_inferior</th>\n",
       "      <th>Intervalo_superior</th>\n",
       "      <th>instancia</th>\n",
       "      <th>validacao</th>\n",
       "    </tr>\n",
       "  </thead>\n",
       "  <tbody>\n",
       "    <tr>\n",
       "      <th>0</th>\n",
       "      <td>Nearest Neighbors</td>\n",
       "      <td>0.696663</td>\n",
       "      <td>0.674585</td>\n",
       "      <td>0.718742</td>\n",
       "      <td>KNeighborsClassifier(n_neighbors=3)</td>\n",
       "      <td>0.598187</td>\n",
       "    </tr>\n",
       "    <tr>\n",
       "      <th>1</th>\n",
       "      <td>Linear SVM</td>\n",
       "      <td>0.779509</td>\n",
       "      <td>0.769327</td>\n",
       "      <td>0.789691</td>\n",
       "      <td>(StandardScaler(), SVC(C=0.025, kernel='linear'))</td>\n",
       "      <td>1.000000</td>\n",
       "    </tr>\n",
       "    <tr>\n",
       "      <th>2</th>\n",
       "      <td>RBF SVM</td>\n",
       "      <td>0.772483</td>\n",
       "      <td>0.763667</td>\n",
       "      <td>0.781299</td>\n",
       "      <td>(StandardScaler(), SVC(C=1, gamma=2))</td>\n",
       "      <td>0.836858</td>\n",
       "    </tr>\n",
       "    <tr>\n",
       "      <th>3</th>\n",
       "      <td>Gaussian Process</td>\n",
       "      <td>0.779592</td>\n",
       "      <td>0.728547</td>\n",
       "      <td>0.830637</td>\n",
       "      <td>GaussianProcessClassifier(kernel=1**2 * RBF(le...</td>\n",
       "      <td>0.891239</td>\n",
       "    </tr>\n",
       "    <tr>\n",
       "      <th>4</th>\n",
       "      <td>Decision Tree</td>\n",
       "      <td>0.810381</td>\n",
       "      <td>0.801027</td>\n",
       "      <td>0.819735</td>\n",
       "      <td>DecisionTreeClassifier(max_depth=5, random_sta...</td>\n",
       "      <td>0.930514</td>\n",
       "    </tr>\n",
       "    <tr>\n",
       "      <th>5</th>\n",
       "      <td>Random Forest</td>\n",
       "      <td>0.790743</td>\n",
       "      <td>0.773922</td>\n",
       "      <td>0.807564</td>\n",
       "      <td>(DecisionTreeClassifier(max_features=1, random...</td>\n",
       "      <td>0.806647</td>\n",
       "    </tr>\n",
       "    <tr>\n",
       "      <th>6</th>\n",
       "      <td>Neural Net</td>\n",
       "      <td>0.794980</td>\n",
       "      <td>0.770892</td>\n",
       "      <td>0.819069</td>\n",
       "      <td>MLPClassifier(alpha=1, max_iter=1000)</td>\n",
       "      <td>0.909366</td>\n",
       "    </tr>\n",
       "    <tr>\n",
       "      <th>7</th>\n",
       "      <td>AdaBoost</td>\n",
       "      <td>0.773901</td>\n",
       "      <td>0.754021</td>\n",
       "      <td>0.793781</td>\n",
       "      <td>(DecisionTreeClassifier(max_depth=1, random_st...</td>\n",
       "      <td>0.900302</td>\n",
       "    </tr>\n",
       "    <tr>\n",
       "      <th>8</th>\n",
       "      <td>Naive Bayes</td>\n",
       "      <td>0.775296</td>\n",
       "      <td>0.759612</td>\n",
       "      <td>0.790979</td>\n",
       "      <td>GaussianNB()</td>\n",
       "      <td>0.873112</td>\n",
       "    </tr>\n",
       "    <tr>\n",
       "      <th>9</th>\n",
       "      <td>QDA</td>\n",
       "      <td>0.800571</td>\n",
       "      <td>0.787678</td>\n",
       "      <td>0.813463</td>\n",
       "      <td>QuadraticDiscriminantAnalysis()</td>\n",
       "      <td>0.876133</td>\n",
       "    </tr>\n",
       "    <tr>\n",
       "      <th>10</th>\n",
       "      <td>Dummy</td>\n",
       "      <td>0.595504</td>\n",
       "      <td>0.594702</td>\n",
       "      <td>0.596306</td>\n",
       "      <td>DummyClassifier(random_state=123, strategy='mo...</td>\n",
       "      <td>0.616314</td>\n",
       "    </tr>\n",
       "  </tbody>\n",
       "</table>\n",
       "</div>"
      ],
      "text/plain": [
       "               Modelo     média  Intervalo_inferior  Intervalo_superior  \\\n",
       "0   Nearest Neighbors  0.696663            0.674585            0.718742   \n",
       "1          Linear SVM  0.779509            0.769327            0.789691   \n",
       "2             RBF SVM  0.772483            0.763667            0.781299   \n",
       "3    Gaussian Process  0.779592            0.728547            0.830637   \n",
       "4       Decision Tree  0.810381            0.801027            0.819735   \n",
       "5       Random Forest  0.790743            0.773922            0.807564   \n",
       "6          Neural Net  0.794980            0.770892            0.819069   \n",
       "7            AdaBoost  0.773901            0.754021            0.793781   \n",
       "8         Naive Bayes  0.775296            0.759612            0.790979   \n",
       "9                 QDA  0.800571            0.787678            0.813463   \n",
       "10              Dummy  0.595504            0.594702            0.596306   \n",
       "\n",
       "                                            instancia  validacao  \n",
       "0                 KNeighborsClassifier(n_neighbors=3)   0.598187  \n",
       "1   (StandardScaler(), SVC(C=0.025, kernel='linear'))   1.000000  \n",
       "2               (StandardScaler(), SVC(C=1, gamma=2))   0.836858  \n",
       "3   GaussianProcessClassifier(kernel=1**2 * RBF(le...   0.891239  \n",
       "4   DecisionTreeClassifier(max_depth=5, random_sta...   0.930514  \n",
       "5   (DecisionTreeClassifier(max_features=1, random...   0.806647  \n",
       "6               MLPClassifier(alpha=1, max_iter=1000)   0.909366  \n",
       "7   (DecisionTreeClassifier(max_depth=1, random_st...   0.900302  \n",
       "8                                        GaussianNB()   0.873112  \n",
       "9                     QuadraticDiscriminantAnalysis()   0.876133  \n",
       "10  DummyClassifier(random_state=123, strategy='mo...   0.616314  "
      ]
     },
     "execution_count": 53,
     "metadata": {},
     "output_type": "execute_result"
    }
   ],
   "source": [
    "data_results"
   ]
  },
  {
   "cell_type": "code",
   "execution_count": 54,
   "id": "9210e9f7",
   "metadata": {},
   "outputs": [],
   "source": [
    "Best_model = data_results.loc[data_results['Modelo'] == 'Decision Tree']"
   ]
  },
  {
   "cell_type": "code",
   "execution_count": 55,
   "id": "d2492fa4",
   "metadata": {
    "scrolled": true
   },
   "outputs": [
    {
     "data": {
      "text/html": [
       "<div>\n",
       "<style scoped>\n",
       "    .dataframe tbody tr th:only-of-type {\n",
       "        vertical-align: middle;\n",
       "    }\n",
       "\n",
       "    .dataframe tbody tr th {\n",
       "        vertical-align: top;\n",
       "    }\n",
       "\n",
       "    .dataframe thead th {\n",
       "        text-align: right;\n",
       "    }\n",
       "</style>\n",
       "<table border=\"1\" class=\"dataframe\">\n",
       "  <thead>\n",
       "    <tr style=\"text-align: right;\">\n",
       "      <th></th>\n",
       "      <th>Modelo</th>\n",
       "      <th>média</th>\n",
       "      <th>Intervalo_inferior</th>\n",
       "      <th>Intervalo_superior</th>\n",
       "      <th>instancia</th>\n",
       "      <th>validacao</th>\n",
       "    </tr>\n",
       "  </thead>\n",
       "  <tbody>\n",
       "    <tr>\n",
       "      <th>4</th>\n",
       "      <td>Decision Tree</td>\n",
       "      <td>0.810381</td>\n",
       "      <td>0.801027</td>\n",
       "      <td>0.819735</td>\n",
       "      <td>DecisionTreeClassifier(max_depth=5, random_sta...</td>\n",
       "      <td>0.930514</td>\n",
       "    </tr>\n",
       "  </tbody>\n",
       "</table>\n",
       "</div>"
      ],
      "text/plain": [
       "          Modelo     média  Intervalo_inferior  Intervalo_superior  \\\n",
       "4  Decision Tree  0.810381            0.801027            0.819735   \n",
       "\n",
       "                                           instancia  validacao  \n",
       "4  DecisionTreeClassifier(max_depth=5, random_sta...   0.930514  "
      ]
     },
     "execution_count": 55,
     "metadata": {},
     "output_type": "execute_result"
    }
   ],
   "source": [
    "Best_model"
   ]
  },
  {
   "cell_type": "code",
   "execution_count": 56,
   "id": "e6c2098f",
   "metadata": {},
   "outputs": [],
   "source": [
    "from sklearn.metrics import confusion_matrix"
   ]
  },
  {
   "cell_type": "code",
   "execution_count": 60,
   "id": "dc85b3d4",
   "metadata": {},
   "outputs": [],
   "source": [
    "modelo = Best_model['instancia'][4]\n",
    "matriz_confusao = confusion_matrix(data_validation['Survived'],\n",
    "                                   modelo.predict(data_validation[['Pclass','Sex','Age','SibSp','Parch','Fare','Embarked']])\n",
    "                                  )"
   ]
  },
  {
   "cell_type": "code",
   "execution_count": 61,
   "id": "7702c254",
   "metadata": {},
   "outputs": [],
   "source": [
    "tn, fp, fn, tp = matriz_confusao.ravel()"
   ]
  },
  {
   "cell_type": "code",
   "execution_count": 62,
   "id": "8a11ec6d",
   "metadata": {},
   "outputs": [],
   "source": [
    "matriz_confusao = pd.DataFrame(matriz_confusao,index=['Dead','Survived'],columns=['Dead','Survived'])"
   ]
  },
  {
   "cell_type": "code",
   "execution_count": 63,
   "id": "e2e57bf2",
   "metadata": {},
   "outputs": [
    {
     "name": "stdout",
     "output_type": "stream",
     "text": [
      "True negative = 189\n",
      "False positive = 15 \n",
      "False negative = 8 \n",
      "True positive = 119\n"
     ]
    }
   ],
   "source": [
    "print(f'True negative = {tn}\\nFalse positive = {fp} \\nFalse negative = {fn} \\nTrue positive = {tp}')"
   ]
  },
  {
   "cell_type": "code",
   "execution_count": 64,
   "id": "d082ce63",
   "metadata": {},
   "outputs": [
    {
     "data": {
      "image/png": "[encoded data removed]",
      "text/plain": [
       "<Figure size 640x480 with 2 Axes>"
      ]
     },
     "metadata": {},
     "output_type": "display_data"
    }
   ],
   "source": [
    "ax = sns.heatmap(matriz_confusao,\n",
    "                 annot=True,\n",
    "                )\n",
    "ax.set(xlabel=\"True\", ylabel=\"Predict\")\n",
    "\n",
    "plt.show()"
   ]
  },
  {
   "cell_type": "code",
   "execution_count": null,
   "id": "9f157b25",
   "metadata": {},
   "outputs": [],
   "source": []
  }
 ],
 "metadata": {
  "kernelspec": {
   "display_name": "Python 3 (ipykernel)",
   "language": "python",
   "name": "python3"
  },
  "language_info": {
   "codemirror_mode": {
    "name": "ipython",
    "version": 3
   },
   "file_extension": ".py",
   "mimetype": "text/x-python",
   "name": "python",
   "nbconvert_exporter": "python",
   "pygments_lexer": "ipython3",
   "version": "3.10.8"
  }
 },
 "nbformat": 4,
 "nbformat_minor": 5
}
